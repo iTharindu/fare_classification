{
  "nbformat": 4,
  "nbformat_minor": 0,
  "metadata": {
    "colab": {
      "name": "Fare_classification_challenge.ipynb",
      "provenance": [],
      "collapsed_sections": []
    },
    "kernelspec": {
      "name": "python3",
      "display_name": "Python 3"
    }
  },
  "cells": [
    {
      "cell_type": "code",
      "metadata": {
        "id": "87EMNFL049SH",
        "colab_type": "code",
        "colab": {
          "base_uri": "https://localhost:8080/",
          "height": 34
        },
        "outputId": "14b74223-675d-48df-ebe5-ffc5790c5c42"
      },
      "source": [
        "import numpy as np\n",
        "import pandas as pd\n",
        "\n",
        "\n",
        "from google.colab import drive\n",
        "drive.mount('/content/drive',force_remount=True)"
      ],
      "execution_count": null,
      "outputs": [
        {
          "output_type": "stream",
          "text": [
            "Mounted at /content/drive\n"
          ],
          "name": "stdout"
        }
      ]
    },
    {
      "cell_type": "code",
      "metadata": {
        "id": "Rwkv5YuD5hIi",
        "colab_type": "code",
        "colab": {
          "base_uri": "https://localhost:8080/",
          "height": 419
        },
        "outputId": "1d67c7a5-fe2c-45f6-9343-db8fa83f0d92"
      },
      "source": [
        "!pip install -f http://h2o-release.s3.amazonaws.com/h2o/latest_stable_Py.html h2o"
      ],
      "execution_count": null,
      "outputs": [
        {
          "output_type": "stream",
          "text": [
            "Looking in links: http://h2o-release.s3.amazonaws.com/h2o/latest_stable_Py.html\n",
            "\u001b[33mWARNING: The repository located at h2o-release.s3.amazonaws.com is not a trusted or secure host and is being ignored. If this repository is available via HTTPS we recommend you use HTTPS instead, otherwise you may silence this warning and allow it anyway with '--trusted-host h2o-release.s3.amazonaws.com'.\u001b[0m\n",
            "Collecting h2o\n",
            "\u001b[?25l  Downloading https://files.pythonhosted.org/packages/25/b0/5a6fbc343043ab6d6062114991fa515b7a408fc1f5339e1c1601e5f3e46e/h2o-3.30.0.4.tar.gz (128.3MB)\n",
            "\u001b[K     |████████████████████████████████| 128.3MB 79kB/s \n",
            "\u001b[?25hRequirement already satisfied: requests in /usr/local/lib/python3.6/dist-packages (from h2o) (2.23.0)\n",
            "Requirement already satisfied: tabulate in /usr/local/lib/python3.6/dist-packages (from h2o) (0.8.7)\n",
            "Requirement already satisfied: future in /usr/local/lib/python3.6/dist-packages (from h2o) (0.16.0)\n",
            "\u001b[33mWARNING: The repository located at h2o-release.s3.amazonaws.com is not a trusted or secure host and is being ignored. If this repository is available via HTTPS we recommend you use HTTPS instead, otherwise you may silence this warning and allow it anyway with '--trusted-host h2o-release.s3.amazonaws.com'.\u001b[0m\n",
            "Collecting colorama>=0.3.8\n",
            "  Downloading https://files.pythonhosted.org/packages/c9/dc/45cdef1b4d119eb96316b3117e6d5708a08029992b2fee2c143c7a0a5cc5/colorama-0.4.3-py2.py3-none-any.whl\n",
            "Requirement already satisfied: chardet<4,>=3.0.2 in /usr/local/lib/python3.6/dist-packages (from requests->h2o) (3.0.4)\n",
            "Requirement already satisfied: certifi>=2017.4.17 in /usr/local/lib/python3.6/dist-packages (from requests->h2o) (2020.4.5.1)\n",
            "Requirement already satisfied: urllib3!=1.25.0,!=1.25.1,<1.26,>=1.21.1 in /usr/local/lib/python3.6/dist-packages (from requests->h2o) (1.24.3)\n",
            "Requirement already satisfied: idna<3,>=2.5 in /usr/local/lib/python3.6/dist-packages (from requests->h2o) (2.9)\n",
            "Building wheels for collected packages: h2o\n",
            "  Building wheel for h2o (setup.py) ... \u001b[?25l\u001b[?25hdone\n",
            "  Created wheel for h2o: filename=h2o-3.30.0.4-py2.py3-none-any.whl size=128397038 sha256=b5df1712e73d627266a5ed1131f9a32bf9f86a51540f6a9d8fb812fe4670a6cb\n",
            "  Stored in directory: /root/.cache/pip/wheels/ad/bd/cc/0a8c7dffc4772df0bbfae4c1c7a9d64525fcd3ada9694dd8c3\n",
            "Successfully built h2o\n",
            "Installing collected packages: colorama, h2o\n",
            "Successfully installed colorama-0.4.3 h2o-3.30.0.4\n"
          ],
          "name": "stdout"
        }
      ]
    },
    {
      "cell_type": "code",
      "metadata": {
        "id": "nxmAqKgg5j6U",
        "colab_type": "code",
        "colab": {
          "base_uri": "https://localhost:8080/",
          "height": 517
        },
        "outputId": "a4489a17-8a37-40fd-974d-6b390eefb41c"
      },
      "source": [
        "import h2o\n",
        "from h2o.automl import H2OAutoML\n",
        "\n",
        "h2o.init()"
      ],
      "execution_count": null,
      "outputs": [
        {
          "output_type": "stream",
          "text": [
            "Checking whether there is an H2O instance running at http://localhost:54321 ..... not found.\n",
            "Attempting to start a local H2O server...\n",
            "  Java Version: openjdk version \"11.0.7\" 2020-04-14; OpenJDK Runtime Environment (build 11.0.7+10-post-Ubuntu-2ubuntu218.04); OpenJDK 64-Bit Server VM (build 11.0.7+10-post-Ubuntu-2ubuntu218.04, mixed mode, sharing)\n",
            "  Starting server from /usr/local/lib/python3.6/dist-packages/h2o/backend/bin/h2o.jar\n",
            "  Ice root: /tmp/tmpaq9k_na2\n",
            "  JVM stdout: /tmp/tmpaq9k_na2/h2o_unknownUser_started_from_python.out\n",
            "  JVM stderr: /tmp/tmpaq9k_na2/h2o_unknownUser_started_from_python.err\n",
            "  Server is running at http://127.0.0.1:54321\n",
            "Connecting to H2O server at http://127.0.0.1:54321 ... successful.\n"
          ],
          "name": "stdout"
        },
        {
          "output_type": "display_data",
          "data": {
            "text/html": [
              "<div style=\"overflow:auto\"><table style=\"width:50%\"><tr><td>H2O_cluster_uptime:</td>\n",
              "<td>02 secs</td></tr>\n",
              "<tr><td>H2O_cluster_timezone:</td>\n",
              "<td>Etc/UTC</td></tr>\n",
              "<tr><td>H2O_data_parsing_timezone:</td>\n",
              "<td>UTC</td></tr>\n",
              "<tr><td>H2O_cluster_version:</td>\n",
              "<td>3.30.0.4</td></tr>\n",
              "<tr><td>H2O_cluster_version_age:</td>\n",
              "<td>11 days </td></tr>\n",
              "<tr><td>H2O_cluster_name:</td>\n",
              "<td>H2O_from_python_unknownUser_4t2xyx</td></tr>\n",
              "<tr><td>H2O_cluster_total_nodes:</td>\n",
              "<td>1</td></tr>\n",
              "<tr><td>H2O_cluster_free_memory:</td>\n",
              "<td>3.180 Gb</td></tr>\n",
              "<tr><td>H2O_cluster_total_cores:</td>\n",
              "<td>2</td></tr>\n",
              "<tr><td>H2O_cluster_allowed_cores:</td>\n",
              "<td>2</td></tr>\n",
              "<tr><td>H2O_cluster_status:</td>\n",
              "<td>accepting new members, healthy</td></tr>\n",
              "<tr><td>H2O_connection_url:</td>\n",
              "<td>http://127.0.0.1:54321</td></tr>\n",
              "<tr><td>H2O_connection_proxy:</td>\n",
              "<td>{\"http\": null, \"https\": null}</td></tr>\n",
              "<tr><td>H2O_internal_security:</td>\n",
              "<td>False</td></tr>\n",
              "<tr><td>H2O_API_Extensions:</td>\n",
              "<td>Amazon S3, XGBoost, Algos, AutoML, Core V3, TargetEncoder, Core V4</td></tr>\n",
              "<tr><td>Python_version:</td>\n",
              "<td>3.6.9 final</td></tr></table></div>"
            ],
            "text/plain": [
              "--------------------------  ------------------------------------------------------------------\n",
              "H2O_cluster_uptime:         02 secs\n",
              "H2O_cluster_timezone:       Etc/UTC\n",
              "H2O_data_parsing_timezone:  UTC\n",
              "H2O_cluster_version:        3.30.0.4\n",
              "H2O_cluster_version_age:    11 days\n",
              "H2O_cluster_name:           H2O_from_python_unknownUser_4t2xyx\n",
              "H2O_cluster_total_nodes:    1\n",
              "H2O_cluster_free_memory:    3.180 Gb\n",
              "H2O_cluster_total_cores:    2\n",
              "H2O_cluster_allowed_cores:  2\n",
              "H2O_cluster_status:         accepting new members, healthy\n",
              "H2O_connection_url:         http://127.0.0.1:54321\n",
              "H2O_connection_proxy:       {\"http\": null, \"https\": null}\n",
              "H2O_internal_security:      False\n",
              "H2O_API_Extensions:         Amazon S3, XGBoost, Algos, AutoML, Core V3, TargetEncoder, Core V4\n",
              "Python_version:             3.6.9 final\n",
              "--------------------------  ------------------------------------------------------------------"
            ]
          },
          "metadata": {
            "tags": []
          }
        }
      ]
    },
    {
      "cell_type": "code",
      "metadata": {
        "id": "_-2F-vk75nLR",
        "colab_type": "code",
        "colab": {
          "base_uri": "https://localhost:8080/",
          "height": 52
        },
        "outputId": "3f5a354f-cb78-4a25-d903-54d7ff42ceb7"
      },
      "source": [
        "import matplotlib.pyplot as plt\n",
        "import seaborn as sns\n",
        "import warnings\n",
        "warnings.simplefilter(action='ignore', category=FutureWarning)"
      ],
      "execution_count": null,
      "outputs": [
        {
          "output_type": "stream",
          "text": [
            "/usr/local/lib/python3.6/dist-packages/statsmodels/tools/_testing.py:19: FutureWarning: pandas.util.testing is deprecated. Use the functions in the public API at pandas.testing instead.\n",
            "  import pandas.util.testing as tm\n"
          ],
          "name": "stderr"
        }
      ]
    },
    {
      "cell_type": "code",
      "metadata": {
        "id": "p3569xPA5FBx",
        "colab_type": "code",
        "colab": {
          "base_uri": "https://localhost:8080/",
          "height": 206
        },
        "outputId": "69bfdbd0-0a78-4003-c1e0-8301fe5c17a7"
      },
      "source": [
        "path = '/content/drive/My Drive/machine learning project'\n",
        "\n",
        "train_df = pd.read_csv(path + '/train.csv')\n",
        "train_df.head()"
      ],
      "execution_count": null,
      "outputs": [
        {
          "output_type": "execute_result",
          "data": {
            "text/html": [
              "<div>\n",
              "<style scoped>\n",
              "    .dataframe tbody tr th:only-of-type {\n",
              "        vertical-align: middle;\n",
              "    }\n",
              "\n",
              "    .dataframe tbody tr th {\n",
              "        vertical-align: top;\n",
              "    }\n",
              "\n",
              "    .dataframe thead th {\n",
              "        text-align: right;\n",
              "    }\n",
              "</style>\n",
              "<table border=\"1\" class=\"dataframe\">\n",
              "  <thead>\n",
              "    <tr style=\"text-align: right;\">\n",
              "      <th></th>\n",
              "      <th>tripid</th>\n",
              "      <th>additional_fare</th>\n",
              "      <th>duration</th>\n",
              "      <th>meter_waiting</th>\n",
              "      <th>meter_waiting_fare</th>\n",
              "      <th>meter_waiting_till_pickup</th>\n",
              "      <th>pickup_time</th>\n",
              "      <th>drop_time</th>\n",
              "      <th>pick_lat</th>\n",
              "      <th>pick_lon</th>\n",
              "      <th>drop_lat</th>\n",
              "      <th>drop_lon</th>\n",
              "      <th>fare</th>\n",
              "      <th>label</th>\n",
              "    </tr>\n",
              "  </thead>\n",
              "  <tbody>\n",
              "    <tr>\n",
              "      <th>0</th>\n",
              "      <td>189123628</td>\n",
              "      <td>10.5</td>\n",
              "      <td>834.0</td>\n",
              "      <td>56.0</td>\n",
              "      <td>0.0000</td>\n",
              "      <td>64.0</td>\n",
              "      <td>11/1/2019 0:20</td>\n",
              "      <td>11/1/2019 0:34</td>\n",
              "      <td>6.86252</td>\n",
              "      <td>79.8993</td>\n",
              "      <td>6.90330</td>\n",
              "      <td>79.8783</td>\n",
              "      <td>270.32</td>\n",
              "      <td>correct</td>\n",
              "    </tr>\n",
              "    <tr>\n",
              "      <th>1</th>\n",
              "      <td>189125358</td>\n",
              "      <td>10.5</td>\n",
              "      <td>791.0</td>\n",
              "      <td>47.0</td>\n",
              "      <td>0.0000</td>\n",
              "      <td>134.0</td>\n",
              "      <td>11/1/2019 0:56</td>\n",
              "      <td>11/1/2019 1:09</td>\n",
              "      <td>6.88589</td>\n",
              "      <td>79.8984</td>\n",
              "      <td>6.91373</td>\n",
              "      <td>79.8923</td>\n",
              "      <td>197.85</td>\n",
              "      <td>correct</td>\n",
              "    </tr>\n",
              "    <tr>\n",
              "      <th>2</th>\n",
              "      <td>189125719</td>\n",
              "      <td>10.5</td>\n",
              "      <td>1087.0</td>\n",
              "      <td>80.0</td>\n",
              "      <td>0.0000</td>\n",
              "      <td>61.0</td>\n",
              "      <td>11/1/2019 1:08</td>\n",
              "      <td>11/1/2019 1:26</td>\n",
              "      <td>6.90839</td>\n",
              "      <td>79.8651</td>\n",
              "      <td>6.93669</td>\n",
              "      <td>79.9146</td>\n",
              "      <td>301.64</td>\n",
              "      <td>correct</td>\n",
              "    </tr>\n",
              "    <tr>\n",
              "      <th>3</th>\n",
              "      <td>189127273</td>\n",
              "      <td>10.5</td>\n",
              "      <td>598.0</td>\n",
              "      <td>271.0</td>\n",
              "      <td>15.6638</td>\n",
              "      <td>68.0</td>\n",
              "      <td>11/1/2019 2:27</td>\n",
              "      <td>11/1/2019 2:37</td>\n",
              "      <td>6.92570</td>\n",
              "      <td>79.8895</td>\n",
              "      <td>6.92748</td>\n",
              "      <td>79.8971</td>\n",
              "      <td>82.30</td>\n",
              "      <td>correct</td>\n",
              "    </tr>\n",
              "    <tr>\n",
              "      <th>4</th>\n",
              "      <td>189128020</td>\n",
              "      <td>NaN</td>\n",
              "      <td>NaN</td>\n",
              "      <td>NaN</td>\n",
              "      <td>NaN</td>\n",
              "      <td>NaN</td>\n",
              "      <td>11/1/2019 3:34</td>\n",
              "      <td>11/1/2019 3:51</td>\n",
              "      <td>6.87441</td>\n",
              "      <td>79.8615</td>\n",
              "      <td>6.84478</td>\n",
              "      <td>79.9290</td>\n",
              "      <td>358.39</td>\n",
              "      <td>correct</td>\n",
              "    </tr>\n",
              "  </tbody>\n",
              "</table>\n",
              "</div>"
            ],
            "text/plain": [
              "      tripid  additional_fare  duration  ...  drop_lon    fare    label\n",
              "0  189123628             10.5     834.0  ...   79.8783  270.32  correct\n",
              "1  189125358             10.5     791.0  ...   79.8923  197.85  correct\n",
              "2  189125719             10.5    1087.0  ...   79.9146  301.64  correct\n",
              "3  189127273             10.5     598.0  ...   79.8971   82.30  correct\n",
              "4  189128020              NaN       NaN  ...   79.9290  358.39  correct\n",
              "\n",
              "[5 rows x 14 columns]"
            ]
          },
          "metadata": {
            "tags": []
          },
          "execution_count": 2
        }
      ]
    },
    {
      "cell_type": "code",
      "metadata": {
        "id": "tqYXrMsV54-z",
        "colab_type": "code",
        "colab": {}
      },
      "source": [
        "train_drop_na = train_df.dropna()"
      ],
      "execution_count": null,
      "outputs": []
    },
    {
      "cell_type": "code",
      "metadata": {
        "id": "PGo8QLqG5U6Q",
        "colab_type": "code",
        "colab": {}
      },
      "source": [
        "from math import sin, cos, sqrt, atan2\n",
        "\n",
        "R = 6373.0\n",
        "\n",
        "def haversine(lat1, lon1, lat2, lon2, to_radians=True, earth_radius=6371):\n",
        "    \"\"\"\n",
        "    slightly modified version: of http://stackoverflow.com/a/29546836/2901002\n",
        "\n",
        "    Calculate the great circle distance between two points\n",
        "    on the earth (specified in decimal degrees or in radians)\n",
        "\n",
        "    All (lat, lon) coordinates must have numeric dtypes and be of equal length.\n",
        "\n",
        "    \"\"\"\n",
        "    if to_radians:\n",
        "        lat1, lon1, lat2, lon2 = np.radians([lat1, lon1, lat2, lon2])\n",
        "\n",
        "    a = np.sin((lat2-lat1)/2.0)**2 + \\\n",
        "        np.cos(lat1) * np.cos(lat2) * np.sin((lon2-lon1)/2.0)**2\n",
        "\n",
        "    return earth_radius * 2 * np.arcsin(np.sqrt(a))"
      ],
      "execution_count": null,
      "outputs": []
    },
    {
      "cell_type": "code",
      "metadata": {
        "id": "E0zv7zU617dI",
        "colab_type": "code",
        "colab": {}
      },
      "source": [
        "def calc_distance(df):\n",
        "    dist_calc_df = df.copy()\n",
        "    size = len(dist_calc_df)\n",
        "    plon = dist_calc_df['pick_lon'].values\n",
        "    plat = dist_calc_df['pick_lat'].values\n",
        "    dlon = dist_calc_df['drop_lon'].values\n",
        "    dlat = dist_calc_df['drop_lat'].values\n",
        "    distances = []\n",
        "\n",
        "    for i in range (size):\n",
        "      distances.append(haversine(plat[i],plon[i],dlat[i],dlon[i]))\n",
        "    \n",
        "    dist_calc_df['distances'] = distances\n",
        "    return(dist_calc_df)"
      ],
      "execution_count": null,
      "outputs": []
    },
    {
      "cell_type": "code",
      "metadata": {
        "id": "TGxwzPpr2Kzg",
        "colab_type": "code",
        "colab": {}
      },
      "source": [
        "train_drop_na = calc_distance(train_drop_na)"
      ],
      "execution_count": null,
      "outputs": []
    },
    {
      "cell_type": "code",
      "metadata": {
        "id": "cdD3xtU02W--",
        "colab_type": "code",
        "colab": {
          "base_uri": "https://localhost:8080/",
          "height": 206
        },
        "outputId": "037d5536-01c6-42fa-b9c0-c82e855f3602"
      },
      "source": [
        "train_drop_na.head()"
      ],
      "execution_count": null,
      "outputs": [
        {
          "output_type": "execute_result",
          "data": {
            "text/html": [
              "<div>\n",
              "<style scoped>\n",
              "    .dataframe tbody tr th:only-of-type {\n",
              "        vertical-align: middle;\n",
              "    }\n",
              "\n",
              "    .dataframe tbody tr th {\n",
              "        vertical-align: top;\n",
              "    }\n",
              "\n",
              "    .dataframe thead th {\n",
              "        text-align: right;\n",
              "    }\n",
              "</style>\n",
              "<table border=\"1\" class=\"dataframe\">\n",
              "  <thead>\n",
              "    <tr style=\"text-align: right;\">\n",
              "      <th></th>\n",
              "      <th>tripid</th>\n",
              "      <th>additional_fare</th>\n",
              "      <th>duration</th>\n",
              "      <th>meter_waiting</th>\n",
              "      <th>meter_waiting_fare</th>\n",
              "      <th>meter_waiting_till_pickup</th>\n",
              "      <th>pickup_time</th>\n",
              "      <th>drop_time</th>\n",
              "      <th>pick_lat</th>\n",
              "      <th>pick_lon</th>\n",
              "      <th>drop_lat</th>\n",
              "      <th>drop_lon</th>\n",
              "      <th>fare</th>\n",
              "      <th>label</th>\n",
              "      <th>distances</th>\n",
              "    </tr>\n",
              "  </thead>\n",
              "  <tbody>\n",
              "    <tr>\n",
              "      <th>0</th>\n",
              "      <td>189123628</td>\n",
              "      <td>10.5</td>\n",
              "      <td>834.0</td>\n",
              "      <td>56.0</td>\n",
              "      <td>0.0000</td>\n",
              "      <td>64.0</td>\n",
              "      <td>11/1/2019 0:20</td>\n",
              "      <td>11/1/2019 0:34</td>\n",
              "      <td>6.86252</td>\n",
              "      <td>79.8993</td>\n",
              "      <td>6.90330</td>\n",
              "      <td>79.8783</td>\n",
              "      <td>270.32</td>\n",
              "      <td>correct</td>\n",
              "      <td>5.092770</td>\n",
              "    </tr>\n",
              "    <tr>\n",
              "      <th>1</th>\n",
              "      <td>189125358</td>\n",
              "      <td>10.5</td>\n",
              "      <td>791.0</td>\n",
              "      <td>47.0</td>\n",
              "      <td>0.0000</td>\n",
              "      <td>134.0</td>\n",
              "      <td>11/1/2019 0:56</td>\n",
              "      <td>11/1/2019 1:09</td>\n",
              "      <td>6.88589</td>\n",
              "      <td>79.8984</td>\n",
              "      <td>6.91373</td>\n",
              "      <td>79.8923</td>\n",
              "      <td>197.85</td>\n",
              "      <td>correct</td>\n",
              "      <td>3.168058</td>\n",
              "    </tr>\n",
              "    <tr>\n",
              "      <th>2</th>\n",
              "      <td>189125719</td>\n",
              "      <td>10.5</td>\n",
              "      <td>1087.0</td>\n",
              "      <td>80.0</td>\n",
              "      <td>0.0000</td>\n",
              "      <td>61.0</td>\n",
              "      <td>11/1/2019 1:08</td>\n",
              "      <td>11/1/2019 1:26</td>\n",
              "      <td>6.90839</td>\n",
              "      <td>79.8651</td>\n",
              "      <td>6.93669</td>\n",
              "      <td>79.9146</td>\n",
              "      <td>301.64</td>\n",
              "      <td>correct</td>\n",
              "      <td>6.305395</td>\n",
              "    </tr>\n",
              "    <tr>\n",
              "      <th>3</th>\n",
              "      <td>189127273</td>\n",
              "      <td>10.5</td>\n",
              "      <td>598.0</td>\n",
              "      <td>271.0</td>\n",
              "      <td>15.6638</td>\n",
              "      <td>68.0</td>\n",
              "      <td>11/1/2019 2:27</td>\n",
              "      <td>11/1/2019 2:37</td>\n",
              "      <td>6.92570</td>\n",
              "      <td>79.8895</td>\n",
              "      <td>6.92748</td>\n",
              "      <td>79.8971</td>\n",
              "      <td>82.30</td>\n",
              "      <td>correct</td>\n",
              "      <td>0.861946</td>\n",
              "    </tr>\n",
              "    <tr>\n",
              "      <th>5</th>\n",
              "      <td>189129552</td>\n",
              "      <td>10.5</td>\n",
              "      <td>3407.0</td>\n",
              "      <td>182.0</td>\n",
              "      <td>0.0000</td>\n",
              "      <td>112.0</td>\n",
              "      <td>11/1/2019 5:38</td>\n",
              "      <td>11/1/2019 6:35</td>\n",
              "      <td>7.13402</td>\n",
              "      <td>79.8969</td>\n",
              "      <td>6.91865</td>\n",
              "      <td>79.8649</td>\n",
              "      <td>1065.02</td>\n",
              "      <td>correct</td>\n",
              "      <td>24.207039</td>\n",
              "    </tr>\n",
              "  </tbody>\n",
              "</table>\n",
              "</div>"
            ],
            "text/plain": [
              "      tripid  additional_fare  duration  ...     fare    label  distances\n",
              "0  189123628             10.5     834.0  ...   270.32  correct   5.092770\n",
              "1  189125358             10.5     791.0  ...   197.85  correct   3.168058\n",
              "2  189125719             10.5    1087.0  ...   301.64  correct   6.305395\n",
              "3  189127273             10.5     598.0  ...    82.30  correct   0.861946\n",
              "5  189129552             10.5    3407.0  ...  1065.02  correct  24.207039\n",
              "\n",
              "[5 rows x 15 columns]"
            ]
          },
          "metadata": {
            "tags": []
          },
          "execution_count": 11
        }
      ]
    },
    {
      "cell_type": "code",
      "metadata": {
        "id": "ybqjk0QV2ydb",
        "colab_type": "code",
        "colab": {}
      },
      "source": [
        "def driving_time_fare(df):\n",
        "    driving_df = df.copy()\n",
        "    driving_time = []\n",
        "    driving_fare = []\n",
        "    num_rows = driving_df.shape[0]\n",
        "    for i in range(num_rows):\n",
        "        driving_time.append(driving_df.iloc[i]['duration'] - driving_df.iloc[i]['meter_waiting'])\n",
        "        driving_fare.append(driving_df.iloc[i]['fare'] - driving_df.iloc[i]['additional_fare'] - driving_df.iloc[i]['meter_waiting_fare'])\n",
        "\n",
        "    driving_df['driving_time'] = driving_time\n",
        "    driving_df['driving_fare'] = driving_fare\n",
        "    return driving_df"
      ],
      "execution_count": null,
      "outputs": []
    },
    {
      "cell_type": "code",
      "metadata": {
        "id": "bg_R0VAn5sZ1",
        "colab_type": "code",
        "colab": {
          "base_uri": "https://localhost:8080/",
          "height": 206
        },
        "outputId": "49807f75-db45-4674-a73e-2709a2b24985"
      },
      "source": [
        "train_driving_df = driving_time_fare(train_drop_na)\n",
        "train_driving_df.head()"
      ],
      "execution_count": null,
      "outputs": [
        {
          "output_type": "execute_result",
          "data": {
            "text/html": [
              "<div>\n",
              "<style scoped>\n",
              "    .dataframe tbody tr th:only-of-type {\n",
              "        vertical-align: middle;\n",
              "    }\n",
              "\n",
              "    .dataframe tbody tr th {\n",
              "        vertical-align: top;\n",
              "    }\n",
              "\n",
              "    .dataframe thead th {\n",
              "        text-align: right;\n",
              "    }\n",
              "</style>\n",
              "<table border=\"1\" class=\"dataframe\">\n",
              "  <thead>\n",
              "    <tr style=\"text-align: right;\">\n",
              "      <th></th>\n",
              "      <th>tripid</th>\n",
              "      <th>additional_fare</th>\n",
              "      <th>duration</th>\n",
              "      <th>meter_waiting</th>\n",
              "      <th>meter_waiting_fare</th>\n",
              "      <th>meter_waiting_till_pickup</th>\n",
              "      <th>pickup_time</th>\n",
              "      <th>drop_time</th>\n",
              "      <th>pick_lat</th>\n",
              "      <th>pick_lon</th>\n",
              "      <th>drop_lat</th>\n",
              "      <th>drop_lon</th>\n",
              "      <th>fare</th>\n",
              "      <th>label</th>\n",
              "      <th>distances</th>\n",
              "      <th>driving_time</th>\n",
              "      <th>driving_fare</th>\n",
              "    </tr>\n",
              "  </thead>\n",
              "  <tbody>\n",
              "    <tr>\n",
              "      <th>0</th>\n",
              "      <td>189123628</td>\n",
              "      <td>10.5</td>\n",
              "      <td>834.0</td>\n",
              "      <td>56.0</td>\n",
              "      <td>0.0000</td>\n",
              "      <td>64.0</td>\n",
              "      <td>11/1/2019 0:20</td>\n",
              "      <td>11/1/2019 0:34</td>\n",
              "      <td>6.86252</td>\n",
              "      <td>79.8993</td>\n",
              "      <td>6.90330</td>\n",
              "      <td>79.8783</td>\n",
              "      <td>270.32</td>\n",
              "      <td>correct</td>\n",
              "      <td>5.092770</td>\n",
              "      <td>778.0</td>\n",
              "      <td>259.8200</td>\n",
              "    </tr>\n",
              "    <tr>\n",
              "      <th>1</th>\n",
              "      <td>189125358</td>\n",
              "      <td>10.5</td>\n",
              "      <td>791.0</td>\n",
              "      <td>47.0</td>\n",
              "      <td>0.0000</td>\n",
              "      <td>134.0</td>\n",
              "      <td>11/1/2019 0:56</td>\n",
              "      <td>11/1/2019 1:09</td>\n",
              "      <td>6.88589</td>\n",
              "      <td>79.8984</td>\n",
              "      <td>6.91373</td>\n",
              "      <td>79.8923</td>\n",
              "      <td>197.85</td>\n",
              "      <td>correct</td>\n",
              "      <td>3.168058</td>\n",
              "      <td>744.0</td>\n",
              "      <td>187.3500</td>\n",
              "    </tr>\n",
              "    <tr>\n",
              "      <th>2</th>\n",
              "      <td>189125719</td>\n",
              "      <td>10.5</td>\n",
              "      <td>1087.0</td>\n",
              "      <td>80.0</td>\n",
              "      <td>0.0000</td>\n",
              "      <td>61.0</td>\n",
              "      <td>11/1/2019 1:08</td>\n",
              "      <td>11/1/2019 1:26</td>\n",
              "      <td>6.90839</td>\n",
              "      <td>79.8651</td>\n",
              "      <td>6.93669</td>\n",
              "      <td>79.9146</td>\n",
              "      <td>301.64</td>\n",
              "      <td>correct</td>\n",
              "      <td>6.305395</td>\n",
              "      <td>1007.0</td>\n",
              "      <td>291.1400</td>\n",
              "    </tr>\n",
              "    <tr>\n",
              "      <th>3</th>\n",
              "      <td>189127273</td>\n",
              "      <td>10.5</td>\n",
              "      <td>598.0</td>\n",
              "      <td>271.0</td>\n",
              "      <td>15.6638</td>\n",
              "      <td>68.0</td>\n",
              "      <td>11/1/2019 2:27</td>\n",
              "      <td>11/1/2019 2:37</td>\n",
              "      <td>6.92570</td>\n",
              "      <td>79.8895</td>\n",
              "      <td>6.92748</td>\n",
              "      <td>79.8971</td>\n",
              "      <td>82.30</td>\n",
              "      <td>correct</td>\n",
              "      <td>0.861946</td>\n",
              "      <td>327.0</td>\n",
              "      <td>56.1362</td>\n",
              "    </tr>\n",
              "    <tr>\n",
              "      <th>5</th>\n",
              "      <td>189129552</td>\n",
              "      <td>10.5</td>\n",
              "      <td>3407.0</td>\n",
              "      <td>182.0</td>\n",
              "      <td>0.0000</td>\n",
              "      <td>112.0</td>\n",
              "      <td>11/1/2019 5:38</td>\n",
              "      <td>11/1/2019 6:35</td>\n",
              "      <td>7.13402</td>\n",
              "      <td>79.8969</td>\n",
              "      <td>6.91865</td>\n",
              "      <td>79.8649</td>\n",
              "      <td>1065.02</td>\n",
              "      <td>correct</td>\n",
              "      <td>24.207039</td>\n",
              "      <td>3225.0</td>\n",
              "      <td>1054.5200</td>\n",
              "    </tr>\n",
              "  </tbody>\n",
              "</table>\n",
              "</div>"
            ],
            "text/plain": [
              "      tripid  additional_fare  duration  ...  distances  driving_time  driving_fare\n",
              "0  189123628             10.5     834.0  ...   5.092770         778.0      259.8200\n",
              "1  189125358             10.5     791.0  ...   3.168058         744.0      187.3500\n",
              "2  189125719             10.5    1087.0  ...   6.305395        1007.0      291.1400\n",
              "3  189127273             10.5     598.0  ...   0.861946         327.0       56.1362\n",
              "5  189129552             10.5    3407.0  ...  24.207039        3225.0     1054.5200\n",
              "\n",
              "[5 rows x 17 columns]"
            ]
          },
          "metadata": {
            "tags": []
          },
          "execution_count": 13
        }
      ]
    },
    {
      "cell_type": "code",
      "metadata": {
        "id": "gQymDQxp5Yjt",
        "colab_type": "code",
        "colab": {}
      },
      "source": [
        "def feature_cross_fare_time_zeros_handled(df):\n",
        "    cross_df = df.copy()\n",
        "    #fare_per_duration = []\n",
        "    fare_per_driving_time = []\n",
        "    driving_fare_per_duration = []\n",
        "    driving_fare_per_driving_duration = []\n",
        "    num_rows = cross_df.shape[0]\n",
        "    for i in range(num_rows):\n",
        "        if cross_df.iloc[i]['duration'] == 0 :\n",
        "            #fare_per_duration.append(-100)\n",
        "            driving_fare_per_duration.append(-100) \n",
        "        else :\n",
        "            #fare_per_duration.append(cross_df.iloc[i]['fare']/cross_df.iloc[i]['duration'])\n",
        "            driving_fare_per_duration.append(cross_df.iloc[i]['driving_fare'] /cross_df.iloc[i]['duration'])\n",
        "            \n",
        "        if cross_df.iloc[i]['driving_time'] == 0:\n",
        "            fare_per_driving_time.append(-100)\n",
        "            driving_fare_per_driving_duration.append(-100)\n",
        "        else :\n",
        "            fare_per_driving_time.append(cross_df.iloc[i]['fare'] /cross_df.iloc[i]['driving_time'])\n",
        "            driving_fare_per_driving_duration.append(cross_df.iloc[i]['driving_fare']/cross_df.iloc[i]['driving_time'])\n",
        "        \n",
        "    #cross_df['fare_per_duration'] = fare_per_duration\n",
        "    cross_df['fare_per_driving_time'] = fare_per_driving_time\n",
        "    cross_df['driving_fare_per_duration'] = driving_fare_per_duration\n",
        "    cross_df['driving_fare_per_driving_duration'] = driving_fare_per_driving_duration\n",
        "\n",
        "    return cross_df"
      ],
      "execution_count": null,
      "outputs": []
    },
    {
      "cell_type": "code",
      "metadata": {
        "id": "iHIXXI_6Ry7c",
        "colab_type": "code",
        "colab": {}
      },
      "source": [
        "def feature_cross_fare_time(df):\n",
        "    cross_df = df.copy()\n",
        "    #fare_per_duration = []\n",
        "    fare_per_driving_time = []\n",
        "    driving_fare_per_duration = []\n",
        "    driving_fare_per_driving_duration = []\n",
        "    num_rows = cross_df.shape[0]\n",
        "    for i in range(num_rows):\n",
        "\n",
        "        #fare_per_duration.append(cross_df.iloc[i]['fare']/cross_df.iloc[i]['duration'])\n",
        "        driving_fare_per_duration.append(cross_df.iloc[i]['driving_fare']/cross_df.iloc[i]['duration'])\n",
        "\n",
        "        fare_per_driving_time.append(cross_df.iloc[i]['fare']/cross_df.iloc[i]['driving_time'])\n",
        "        driving_fare_per_driving_duration.append(cross_df.iloc[i]['driving_fare']/cross_df.iloc[i]['driving_time'])\n",
        "    \n",
        "    #cross_df['fare_per_duration'] = fare_per_duration\n",
        "    cross_df['fare_per_driving_time'] = fare_per_driving_time\n",
        "    cross_df['driving_fare_per_duration'] = driving_fare_per_duration\n",
        "    cross_df['driving_fare_per_driving_duration'] = driving_fare_per_driving_duration\n",
        "\n",
        "    return cross_df"
      ],
      "execution_count": null,
      "outputs": []
    },
    {
      "cell_type": "code",
      "metadata": {
        "id": "cGaWDI5f-ZuD",
        "colab_type": "code",
        "colab": {}
      },
      "source": [
        "def feature_cross_distance(df):\n",
        "    cross_df = df.copy()\n",
        "    fare_per_distance = []\n",
        "    speed = []\n",
        "    num_rows = cross_df.shape[0]\n",
        "    for i in range(num_rows):\n",
        "        fare_per_distance.append(cross_df.iloc[i]['fare'] / cross_df.iloc[i]['distances'])\n",
        "        speed.append((cross_df.iloc[i]['distances'] / cross_df.iloc[i]['driving_time']) * 3600)\n",
        "    \n",
        "    cross_df['fare_per_km'] = fare_per_distance\n",
        "    cross_df['speed'] = speed\n",
        "\n",
        "    return cross_df\n"
      ],
      "execution_count": null,
      "outputs": []
    },
    {
      "cell_type": "code",
      "metadata": {
        "id": "_aJMbjBHRl3m",
        "colab_type": "code",
        "colab": {}
      },
      "source": [
        "def feature_cross_distance_zeros_handled(df):\n",
        "    cross_df = df.copy()\n",
        "    fare_per_distance = []\n",
        "    speed = []\n",
        "    num_rows = cross_df.shape[0]\n",
        "    for i in range(num_rows):\n",
        "        if cross_df.iloc[i]['distances'] == 0 :\n",
        "            fare_per_distance.append(-100)\n",
        "        else :\n",
        "            fare_per_distance.append(cross_df.iloc[i]['fare'] / cross_df.iloc[i]['distances'])\n",
        "        if cross_df.iloc[i]['driving_time'] == 0 :\n",
        "            speed.append(-100)\n",
        "        else:\n",
        "            speed.append((cross_df.iloc[i]['distances'] / cross_df.iloc[i]['driving_time']) * 3600)\n",
        "    \n",
        "    cross_df['fare_per_km'] = fare_per_distance\n",
        "    cross_df['speed'] = speed\n",
        "\n",
        "    return cross_df"
      ],
      "execution_count": null,
      "outputs": []
    },
    {
      "cell_type": "code",
      "metadata": {
        "id": "NoIB-_DG53dH",
        "colab_type": "code",
        "colab": {}
      },
      "source": [
        "cross_fare_df = feature_cross_fare_time_zeros_handled(train_driving_df)\n",
        "cross_df = feature_cross_distance_zeros_handled(cross_fare_df)"
      ],
      "execution_count": null,
      "outputs": []
    },
    {
      "cell_type": "code",
      "metadata": {
        "id": "Jk5RJ2mJ8al1",
        "colab_type": "code",
        "colab": {
          "base_uri": "https://localhost:8080/",
          "height": 313
        },
        "outputId": "66c94255-7e15-4428-bbaf-34e4c7f2b108"
      },
      "source": [
        "cross_df.head()"
      ],
      "execution_count": null,
      "outputs": [
        {
          "output_type": "execute_result",
          "data": {
            "text/html": [
              "<div>\n",
              "<style scoped>\n",
              "    .dataframe tbody tr th:only-of-type {\n",
              "        vertical-align: middle;\n",
              "    }\n",
              "\n",
              "    .dataframe tbody tr th {\n",
              "        vertical-align: top;\n",
              "    }\n",
              "\n",
              "    .dataframe thead th {\n",
              "        text-align: right;\n",
              "    }\n",
              "</style>\n",
              "<table border=\"1\" class=\"dataframe\">\n",
              "  <thead>\n",
              "    <tr style=\"text-align: right;\">\n",
              "      <th></th>\n",
              "      <th>tripid</th>\n",
              "      <th>additional_fare</th>\n",
              "      <th>duration</th>\n",
              "      <th>meter_waiting</th>\n",
              "      <th>meter_waiting_fare</th>\n",
              "      <th>meter_waiting_till_pickup</th>\n",
              "      <th>pickup_time</th>\n",
              "      <th>drop_time</th>\n",
              "      <th>pick_lat</th>\n",
              "      <th>pick_lon</th>\n",
              "      <th>drop_lat</th>\n",
              "      <th>drop_lon</th>\n",
              "      <th>fare</th>\n",
              "      <th>label</th>\n",
              "      <th>distances</th>\n",
              "      <th>driving_time</th>\n",
              "      <th>driving_fare</th>\n",
              "      <th>fare_per_driving_time</th>\n",
              "      <th>driving_fare_per_duration</th>\n",
              "      <th>driving_fare_per_driving_duration</th>\n",
              "      <th>fare_per_km</th>\n",
              "      <th>speed</th>\n",
              "    </tr>\n",
              "  </thead>\n",
              "  <tbody>\n",
              "    <tr>\n",
              "      <th>0</th>\n",
              "      <td>189123628</td>\n",
              "      <td>10.5</td>\n",
              "      <td>834.0</td>\n",
              "      <td>56.0</td>\n",
              "      <td>0.0000</td>\n",
              "      <td>64.0</td>\n",
              "      <td>11/1/2019 0:20</td>\n",
              "      <td>11/1/2019 0:34</td>\n",
              "      <td>6.86252</td>\n",
              "      <td>79.8993</td>\n",
              "      <td>6.90330</td>\n",
              "      <td>79.8783</td>\n",
              "      <td>270.32</td>\n",
              "      <td>correct</td>\n",
              "      <td>5.092770</td>\n",
              "      <td>778.0</td>\n",
              "      <td>259.8200</td>\n",
              "      <td>0.347455</td>\n",
              "      <td>0.311535</td>\n",
              "      <td>0.333959</td>\n",
              "      <td>53.079170</td>\n",
              "      <td>23.565516</td>\n",
              "    </tr>\n",
              "    <tr>\n",
              "      <th>1</th>\n",
              "      <td>189125358</td>\n",
              "      <td>10.5</td>\n",
              "      <td>791.0</td>\n",
              "      <td>47.0</td>\n",
              "      <td>0.0000</td>\n",
              "      <td>134.0</td>\n",
              "      <td>11/1/2019 0:56</td>\n",
              "      <td>11/1/2019 1:09</td>\n",
              "      <td>6.88589</td>\n",
              "      <td>79.8984</td>\n",
              "      <td>6.91373</td>\n",
              "      <td>79.8923</td>\n",
              "      <td>197.85</td>\n",
              "      <td>correct</td>\n",
              "      <td>3.168058</td>\n",
              "      <td>744.0</td>\n",
              "      <td>187.3500</td>\n",
              "      <td>0.265927</td>\n",
              "      <td>0.236852</td>\n",
              "      <td>0.251815</td>\n",
              "      <td>62.451516</td>\n",
              "      <td>15.329311</td>\n",
              "    </tr>\n",
              "    <tr>\n",
              "      <th>2</th>\n",
              "      <td>189125719</td>\n",
              "      <td>10.5</td>\n",
              "      <td>1087.0</td>\n",
              "      <td>80.0</td>\n",
              "      <td>0.0000</td>\n",
              "      <td>61.0</td>\n",
              "      <td>11/1/2019 1:08</td>\n",
              "      <td>11/1/2019 1:26</td>\n",
              "      <td>6.90839</td>\n",
              "      <td>79.8651</td>\n",
              "      <td>6.93669</td>\n",
              "      <td>79.9146</td>\n",
              "      <td>301.64</td>\n",
              "      <td>correct</td>\n",
              "      <td>6.305395</td>\n",
              "      <td>1007.0</td>\n",
              "      <td>291.1400</td>\n",
              "      <td>0.299543</td>\n",
              "      <td>0.267838</td>\n",
              "      <td>0.289116</td>\n",
              "      <td>47.838398</td>\n",
              "      <td>22.541631</td>\n",
              "    </tr>\n",
              "    <tr>\n",
              "      <th>3</th>\n",
              "      <td>189127273</td>\n",
              "      <td>10.5</td>\n",
              "      <td>598.0</td>\n",
              "      <td>271.0</td>\n",
              "      <td>15.6638</td>\n",
              "      <td>68.0</td>\n",
              "      <td>11/1/2019 2:27</td>\n",
              "      <td>11/1/2019 2:37</td>\n",
              "      <td>6.92570</td>\n",
              "      <td>79.8895</td>\n",
              "      <td>6.92748</td>\n",
              "      <td>79.8971</td>\n",
              "      <td>82.30</td>\n",
              "      <td>correct</td>\n",
              "      <td>0.861946</td>\n",
              "      <td>327.0</td>\n",
              "      <td>56.1362</td>\n",
              "      <td>0.251682</td>\n",
              "      <td>0.093873</td>\n",
              "      <td>0.171670</td>\n",
              "      <td>95.481606</td>\n",
              "      <td>9.489315</td>\n",
              "    </tr>\n",
              "    <tr>\n",
              "      <th>5</th>\n",
              "      <td>189129552</td>\n",
              "      <td>10.5</td>\n",
              "      <td>3407.0</td>\n",
              "      <td>182.0</td>\n",
              "      <td>0.0000</td>\n",
              "      <td>112.0</td>\n",
              "      <td>11/1/2019 5:38</td>\n",
              "      <td>11/1/2019 6:35</td>\n",
              "      <td>7.13402</td>\n",
              "      <td>79.8969</td>\n",
              "      <td>6.91865</td>\n",
              "      <td>79.8649</td>\n",
              "      <td>1065.02</td>\n",
              "      <td>correct</td>\n",
              "      <td>24.207039</td>\n",
              "      <td>3225.0</td>\n",
              "      <td>1054.5200</td>\n",
              "      <td>0.330239</td>\n",
              "      <td>0.309516</td>\n",
              "      <td>0.326983</td>\n",
              "      <td>43.996293</td>\n",
              "      <td>27.021811</td>\n",
              "    </tr>\n",
              "  </tbody>\n",
              "</table>\n",
              "</div>"
            ],
            "text/plain": [
              "      tripid  additional_fare  ...  fare_per_km      speed\n",
              "0  189123628             10.5  ...    53.079170  23.565516\n",
              "1  189125358             10.5  ...    62.451516  15.329311\n",
              "2  189125719             10.5  ...    47.838398  22.541631\n",
              "3  189127273             10.5  ...    95.481606   9.489315\n",
              "5  189129552             10.5  ...    43.996293  27.021811\n",
              "\n",
              "[5 rows x 22 columns]"
            ]
          },
          "metadata": {
            "tags": []
          },
          "execution_count": 19
        }
      ]
    },
    {
      "cell_type": "code",
      "metadata": {
        "id": "ejYZD7C18iD8",
        "colab_type": "code",
        "colab": {}
      },
      "source": [
        "def datetime_process(df):\n",
        "    df_datetime = df.copy()\n",
        "    trip_time = []\n",
        "    pickup = pd.to_datetime(df_datetime['pickup_time'], errors='coerce')\n",
        "    drop = pd.to_datetime(df_datetime['drop_time'], errors='coerce')\n",
        "    size = len(df_datetime)\n",
        "\n",
        "    #for i in range(size):\n",
        "        #diff = drop[i] - pickup[i]\n",
        "        #trip_time.append(divmod(diff.total_seconds(), 60)[0])\n",
        "\n",
        "    #df_datetime['trip_time'] = trip_time  \n",
        "    df_datetime['pickup_time'] = pickup\n",
        "    df_datetime['drop_time'] = drop\n",
        "    df_datetime = df_datetime.assign(p_minute = df_datetime.pickup_time.dt.minute,\n",
        "                                     p_hour=df_datetime.pickup_time.dt.hour,\n",
        "                                     p_day=df_datetime.pickup_time.dt.day,\n",
        "                                     p_month=df_datetime.pickup_time.dt.month)\n",
        "    \n",
        "    return df_datetime"
      ],
      "execution_count": null,
      "outputs": []
    },
    {
      "cell_type": "code",
      "metadata": {
        "id": "9OWvV58r9LLo",
        "colab_type": "code",
        "colab": {}
      },
      "source": [
        "df_datetime = datetime_process(cross_df)"
      ],
      "execution_count": null,
      "outputs": []
    },
    {
      "cell_type": "code",
      "metadata": {
        "id": "_Annhg6y90d4",
        "colab_type": "code",
        "colab": {
          "base_uri": "https://localhost:8080/",
          "height": 313
        },
        "outputId": "d573654b-4bfd-442c-dd6e-3b12ea57bb04"
      },
      "source": [
        "df_datetime.head()"
      ],
      "execution_count": null,
      "outputs": [
        {
          "output_type": "execute_result",
          "data": {
            "text/html": [
              "<div>\n",
              "<style scoped>\n",
              "    .dataframe tbody tr th:only-of-type {\n",
              "        vertical-align: middle;\n",
              "    }\n",
              "\n",
              "    .dataframe tbody tr th {\n",
              "        vertical-align: top;\n",
              "    }\n",
              "\n",
              "    .dataframe thead th {\n",
              "        text-align: right;\n",
              "    }\n",
              "</style>\n",
              "<table border=\"1\" class=\"dataframe\">\n",
              "  <thead>\n",
              "    <tr style=\"text-align: right;\">\n",
              "      <th></th>\n",
              "      <th>tripid</th>\n",
              "      <th>additional_fare</th>\n",
              "      <th>duration</th>\n",
              "      <th>meter_waiting</th>\n",
              "      <th>meter_waiting_fare</th>\n",
              "      <th>meter_waiting_till_pickup</th>\n",
              "      <th>pickup_time</th>\n",
              "      <th>drop_time</th>\n",
              "      <th>pick_lat</th>\n",
              "      <th>pick_lon</th>\n",
              "      <th>drop_lat</th>\n",
              "      <th>drop_lon</th>\n",
              "      <th>fare</th>\n",
              "      <th>label</th>\n",
              "      <th>distances</th>\n",
              "      <th>driving_time</th>\n",
              "      <th>driving_fare</th>\n",
              "      <th>fare_per_driving_time</th>\n",
              "      <th>driving_fare_per_duration</th>\n",
              "      <th>driving_fare_per_driving_duration</th>\n",
              "      <th>fare_per_km</th>\n",
              "      <th>speed</th>\n",
              "      <th>p_minute</th>\n",
              "      <th>p_hour</th>\n",
              "      <th>p_day</th>\n",
              "      <th>p_month</th>\n",
              "    </tr>\n",
              "  </thead>\n",
              "  <tbody>\n",
              "    <tr>\n",
              "      <th>0</th>\n",
              "      <td>189123628</td>\n",
              "      <td>10.5</td>\n",
              "      <td>834.0</td>\n",
              "      <td>56.0</td>\n",
              "      <td>0.0000</td>\n",
              "      <td>64.0</td>\n",
              "      <td>2019-11-01 00:20:00</td>\n",
              "      <td>2019-11-01 00:34:00</td>\n",
              "      <td>6.86252</td>\n",
              "      <td>79.8993</td>\n",
              "      <td>6.90330</td>\n",
              "      <td>79.8783</td>\n",
              "      <td>270.32</td>\n",
              "      <td>correct</td>\n",
              "      <td>5.092770</td>\n",
              "      <td>778.0</td>\n",
              "      <td>259.8200</td>\n",
              "      <td>0.347455</td>\n",
              "      <td>0.311535</td>\n",
              "      <td>0.333959</td>\n",
              "      <td>53.079170</td>\n",
              "      <td>23.565516</td>\n",
              "      <td>20</td>\n",
              "      <td>0</td>\n",
              "      <td>1</td>\n",
              "      <td>11</td>\n",
              "    </tr>\n",
              "    <tr>\n",
              "      <th>1</th>\n",
              "      <td>189125358</td>\n",
              "      <td>10.5</td>\n",
              "      <td>791.0</td>\n",
              "      <td>47.0</td>\n",
              "      <td>0.0000</td>\n",
              "      <td>134.0</td>\n",
              "      <td>2019-11-01 00:56:00</td>\n",
              "      <td>2019-11-01 01:09:00</td>\n",
              "      <td>6.88589</td>\n",
              "      <td>79.8984</td>\n",
              "      <td>6.91373</td>\n",
              "      <td>79.8923</td>\n",
              "      <td>197.85</td>\n",
              "      <td>correct</td>\n",
              "      <td>3.168058</td>\n",
              "      <td>744.0</td>\n",
              "      <td>187.3500</td>\n",
              "      <td>0.265927</td>\n",
              "      <td>0.236852</td>\n",
              "      <td>0.251815</td>\n",
              "      <td>62.451516</td>\n",
              "      <td>15.329311</td>\n",
              "      <td>56</td>\n",
              "      <td>0</td>\n",
              "      <td>1</td>\n",
              "      <td>11</td>\n",
              "    </tr>\n",
              "    <tr>\n",
              "      <th>2</th>\n",
              "      <td>189125719</td>\n",
              "      <td>10.5</td>\n",
              "      <td>1087.0</td>\n",
              "      <td>80.0</td>\n",
              "      <td>0.0000</td>\n",
              "      <td>61.0</td>\n",
              "      <td>2019-11-01 01:08:00</td>\n",
              "      <td>2019-11-01 01:26:00</td>\n",
              "      <td>6.90839</td>\n",
              "      <td>79.8651</td>\n",
              "      <td>6.93669</td>\n",
              "      <td>79.9146</td>\n",
              "      <td>301.64</td>\n",
              "      <td>correct</td>\n",
              "      <td>6.305395</td>\n",
              "      <td>1007.0</td>\n",
              "      <td>291.1400</td>\n",
              "      <td>0.299543</td>\n",
              "      <td>0.267838</td>\n",
              "      <td>0.289116</td>\n",
              "      <td>47.838398</td>\n",
              "      <td>22.541631</td>\n",
              "      <td>8</td>\n",
              "      <td>1</td>\n",
              "      <td>1</td>\n",
              "      <td>11</td>\n",
              "    </tr>\n",
              "    <tr>\n",
              "      <th>3</th>\n",
              "      <td>189127273</td>\n",
              "      <td>10.5</td>\n",
              "      <td>598.0</td>\n",
              "      <td>271.0</td>\n",
              "      <td>15.6638</td>\n",
              "      <td>68.0</td>\n",
              "      <td>2019-11-01 02:27:00</td>\n",
              "      <td>2019-11-01 02:37:00</td>\n",
              "      <td>6.92570</td>\n",
              "      <td>79.8895</td>\n",
              "      <td>6.92748</td>\n",
              "      <td>79.8971</td>\n",
              "      <td>82.30</td>\n",
              "      <td>correct</td>\n",
              "      <td>0.861946</td>\n",
              "      <td>327.0</td>\n",
              "      <td>56.1362</td>\n",
              "      <td>0.251682</td>\n",
              "      <td>0.093873</td>\n",
              "      <td>0.171670</td>\n",
              "      <td>95.481606</td>\n",
              "      <td>9.489315</td>\n",
              "      <td>27</td>\n",
              "      <td>2</td>\n",
              "      <td>1</td>\n",
              "      <td>11</td>\n",
              "    </tr>\n",
              "    <tr>\n",
              "      <th>5</th>\n",
              "      <td>189129552</td>\n",
              "      <td>10.5</td>\n",
              "      <td>3407.0</td>\n",
              "      <td>182.0</td>\n",
              "      <td>0.0000</td>\n",
              "      <td>112.0</td>\n",
              "      <td>2019-11-01 05:38:00</td>\n",
              "      <td>2019-11-01 06:35:00</td>\n",
              "      <td>7.13402</td>\n",
              "      <td>79.8969</td>\n",
              "      <td>6.91865</td>\n",
              "      <td>79.8649</td>\n",
              "      <td>1065.02</td>\n",
              "      <td>correct</td>\n",
              "      <td>24.207039</td>\n",
              "      <td>3225.0</td>\n",
              "      <td>1054.5200</td>\n",
              "      <td>0.330239</td>\n",
              "      <td>0.309516</td>\n",
              "      <td>0.326983</td>\n",
              "      <td>43.996293</td>\n",
              "      <td>27.021811</td>\n",
              "      <td>38</td>\n",
              "      <td>5</td>\n",
              "      <td>1</td>\n",
              "      <td>11</td>\n",
              "    </tr>\n",
              "  </tbody>\n",
              "</table>\n",
              "</div>"
            ],
            "text/plain": [
              "      tripid  additional_fare  duration  ...  p_hour  p_day  p_month\n",
              "0  189123628             10.5     834.0  ...       0      1       11\n",
              "1  189125358             10.5     791.0  ...       0      1       11\n",
              "2  189125719             10.5    1087.0  ...       1      1       11\n",
              "3  189127273             10.5     598.0  ...       2      1       11\n",
              "5  189129552             10.5    3407.0  ...       5      1       11\n",
              "\n",
              "[5 rows x 26 columns]"
            ]
          },
          "metadata": {
            "tags": []
          },
          "execution_count": 22
        }
      ]
    },
    {
      "cell_type": "code",
      "metadata": {
        "id": "ibKc1pOsi68s",
        "colab_type": "code",
        "colab": {}
      },
      "source": [
        ""
      ],
      "execution_count": null,
      "outputs": []
    },
    {
      "cell_type": "code",
      "metadata": {
        "id": "v0MKFi19BKxS",
        "colab_type": "code",
        "colab": {}
      },
      "source": [
        "def other_crossings(df):\n",
        "    other_df = df.copy()\n",
        "    fare = other_df['fare'].values\n",
        "    distance = other_df['distances'].values\n",
        "    waiting_fare = other_df['meter_waiting_fare'].values\n",
        "    duration = other_df['duration'].values\n",
        "    additional_fare = other_df['additional_fare'].values\n",
        "    meter_waiting = other_df['meter_waiting'].values\n",
        "    fareperkmperhr = []\n",
        "    min_per_fare = []\n",
        "    addfareperhr = []\n",
        "    size = len(other_df)\n",
        "    for i in range(size):\n",
        "      # fareperkmperhr = (fare - waiting_fare) * trip_time /  distance\n",
        "      fareperkmperhr.append((fare[i]-waiting_fare[i])*(duration[i]/60)/distance[i])\n",
        "      # addfareperhr = additional_fare / distance \n",
        "      addfareperhr.append(additional_fare[i]/distance[i])\n",
        "\n",
        "      min_per_fare.append((duration[i]-meter_waiting[i])/fare[i])\n",
        "\n",
        "    \n",
        "    #other_df['fareperkmperhr'] = fareperkmperhr\n",
        "    other_df['min_per_fare'] = min_per_fare\n",
        "    other_df['addfareperhr'] = addfareperhr\n",
        "\n",
        "    return other_df"
      ],
      "execution_count": null,
      "outputs": []
    },
    {
      "cell_type": "code",
      "metadata": {
        "id": "IQxJjTD8W3V5",
        "colab_type": "code",
        "colab": {}
      },
      "source": [
        "def datetimeprocess(df):\n",
        "  df_datetime = df.copy()\n",
        "  trip_time = []\n",
        "  pickup = pd.to_datetime(df_datetime['pickup_time'], errors='coerce')\n",
        "  drop = pd.to_datetime(df_datetime['drop_time'], errors='coerce')\n",
        "  size = len(df_datetime)\n",
        "\n",
        "  for i in range(size):\n",
        "    diff = drop[i] - pickup[i]\n",
        "    trip_time.append(divmod(diff.total_seconds(), 60)[0])\n",
        "\n",
        "  df_datetime['trip_time'] = trip_time  \n",
        "\n",
        "  df_datetime['pickup_time'] = pickup\n",
        "  df_datetime['drop_time'] = drop\n",
        "  df_datetime = df_datetime.assign(p_hour=df_datetime.pickup_time.dt.hour,\n",
        "               p_day=df_datetime.pickup_time.dt.day,\n",
        "               p_month=df_datetime.pickup_time.dt.month,\n",
        "               p_year=df_datetime.pickup_time.dt.year,\n",
        "               d_hour=df_datetime.drop_time.dt.hour,\n",
        "               d_day=df_datetime.drop_time.dt.day,\n",
        "               d_month=df_datetime.drop_time.dt.month,\n",
        "               d_year=df_datetime.drop_time.dt.year)\n",
        "  \n",
        "  return(df_datetime)"
      ],
      "execution_count": null,
      "outputs": []
    },
    {
      "cell_type": "code",
      "metadata": {
        "id": "bcnWgBlmADpR",
        "colab_type": "code",
        "colab": {}
      },
      "source": [
        "def fare_per_km(df):\n",
        "  farekm_df = df.copy()\n",
        "  size = len(farekm_df)\n",
        "  fare = farekm_df['fare'].values\n",
        "  distance = farekm_df['distances'].values\n",
        "  trip_time = farekm_df['trip_time'].values\n",
        "  meter_waiting = farekm_df['meter_waiting'].values\n",
        "  waiting_fare = farekm_df['meter_waiting_fare'].values\n",
        "  waiting_till_pickup = farekm_df['meter_waiting_till_pickup'].values\n",
        "  additional_fare = farekm_df['additional_fare'].values\n",
        "  duration = farekm_df['duration'].values\n",
        "  farekm = []\n",
        "  farehr = []\n",
        "  waitingfarehr = []\n",
        "  waitingfarehr_withpickup = []\n",
        "  addfareperhr = []\n",
        "  fareperkmperhr = []\n",
        "  speed = []\n",
        "  waiting_factor = []\n",
        "  additional_fare_factor = []\n",
        "  waiting_fare_factor = []\n",
        "  min_per_fare = []\n",
        "  km_per_fare = []\n",
        "  min_per_fare_driving = []\n",
        "  driving_fare_per_min = [] \n",
        "\n",
        "  for i in range(size):\n",
        "    # farekm = (fare - waiting_fare) / distance\n",
        "    farekm.append((fare[i]-waiting_fare[i])/distance[i])\n",
        "\n",
        "    # fareperkmperhr = (fare - waiting_fare) * trip_time /  distance\n",
        "    fareperkmperhr.append((fare[i]-waiting_fare[i])*trip_time[i]/distance[i])\n",
        "\n",
        "    # additional_fare_factor = additional_fare / fare+additional_fare\n",
        "    additional_fare_factor.append(additional_fare[i]/(fare[i]+additional_fare[i]))\n",
        "\n",
        "    # additional_fare_factor = waiting_fare / fare+waiting_fare\n",
        "    waiting_fare_factor.append(waiting_fare[i]/(fare[i]+waiting_fare[i]))\n",
        "\n",
        "    # farehr = (fare - waiting_fare) / (trip_time - meter_waiting)\n",
        "    farehr.append((fare[i]-waiting_fare[i])/((trip_time[i]-meter_waiting[i]/60)))\n",
        "\n",
        "    driving_fare_per_min.append((fare[i] - waiting_fare[i] - additional_fare[i])/((trip_time[i]-meter_waiting[i]/60)))\n",
        "    # speed = distance / (trip_time - meter_waiting)\n",
        "    speed.append(distance[i]/((trip_time[i]-meter_waiting[i]/60))) \n",
        "\n",
        "    # waitingfarehr = waiting_fare / meter_waiting\n",
        "    waitingfarehr.append(waiting_fare[i]/meter_waiting[i])\n",
        "\n",
        "    # waitingfarehr_withpickup = (waiting_fare / (meter_waiting + waiting_till_pickup))\n",
        "    waitingfarehr_withpickup.append(waiting_fare[i]/((meter_waiting[i]+waiting_till_pickup[i])/60))\n",
        "\n",
        "    # addfareperhr = additional_fare / distance \n",
        "    addfareperhr.append(additional_fare[i]/distance[i])\n",
        "\n",
        "    # waiting_factor = meter_waiting / trip_time\n",
        "    waiting_factor.append((meter_waiting[i]*100)/(trip_time[i]*60+meter_waiting[i]))\n",
        "\n",
        "    min_per_fare.append((duration[i]-meter_waiting[i])/fare[i])\n",
        "\n",
        "    min_per_fare_driving.append((duration[i]-meter_waiting[i])/(fare[i] - waiting_fare[i] - additional_fare[i]))\n",
        "\n",
        "\n",
        "    km_per_fare.append(distance[i]/fare[i])\n",
        "\n",
        "# (fare - waiting_fare) / distance\n",
        "# (fare - waiting_fare) / (duration - meter_waiting)\n",
        "# distance / (duration - meter_waiting)\n",
        "# meter_waiting / duration\n",
        "# additional_fare / distance \n",
        "# additional_fare / fare+additional_fare\n",
        "# (duration-meter_waiting)/fare\n",
        "\n",
        "\n",
        "  #farekm_df['waiting_fare_per_min'] = waitingfarehr \n",
        "  #farekm_df['additional_fare_per_km'] = addfareperhr  ###\n",
        "  #farekm_df['waiting_fare_withpickup_per_min'] = waitingfarehr_withpickup\n",
        "  #farekm_df['waiting_factor'] = waiting_factor ###\n",
        "  farekm_df['speed'] = speed ###\n",
        "  farekm_df['fare_per_min'] = farehr ###\n",
        "  farekm_df['fare_per_km'] = farekm ###\n",
        "  farekm_df['additional_fare_factor'] = additional_fare_factor\n",
        "  #farekm_df['waiting_fare_factor'] = waiting_fare_factor\n",
        "  farekm_df['fare_per_kmperhr'] = fareperkmperhr\n",
        "  farekm_df['min_per_fare'] = min_per_fare\n",
        "  farekm_df['km_per_fare'] = km_per_fare\n",
        "  farekm_df['min_per_fare_driving'] = min_per_fare_driving\n",
        "  farekm_df['driving_fare_per_min'] = driving_fare_per_min\n",
        "\n",
        "  return(farekm_df)"
      ],
      "execution_count": null,
      "outputs": []
    },
    {
      "cell_type": "code",
      "metadata": {
        "id": "3-Ey46J3RXzN",
        "colab_type": "code",
        "colab": {}
      },
      "source": [
        "def crossing_inverse(df):\n",
        "  X_train = df.copy()\n",
        "  num_rows=X_train.shape[0]\n",
        "  avg_fare_list = []\n",
        "  avg_fare_dist_list = []\n",
        "  speed_list = []\n",
        "  avg_fare_driving_list = []\n",
        "  for i in range(num_rows):\n",
        "    speed = X_train.iloc[i]['distances'] /( X_train.iloc[i]['duration']- X_train.iloc[i]['meter_waiting'])\n",
        "    speed_list.append(speed)\n",
        "    avg_fare = (X_train.iloc[i]['duration'] - X_train.iloc[i]['meter_waiting'])/ (X_train.iloc[i]['fare'])\n",
        "    avg_fare_list.append(avg_fare)\n",
        "    avg_fare_driving = (X_train.iloc[i]['duration'] - X_train.iloc[i]['meter_waiting'])/ (X_train.iloc[i]['fare'] - X_train.iloc[i]['meter_waiting_fare'] - X_train.iloc[i]['additional_fare'])\n",
        "    avg_fare_driving_list.append(avg_fare_driving)\n",
        "    avg_fare_dist = X_train.iloc[i]['distances'] / X_train.iloc[i]['fare']\n",
        "    avg_fare_dist_list.append(avg_fare_dist)\n",
        "  X_train['avg_fare'] = avg_fare_list\n",
        "  X_train['speed'] = speed_list\n",
        "  X_train['avg_fare_dist'] = avg_fare_dist_list\n",
        "  X_train['avg_driving_fare'] = avg_fare_driving_list\n",
        "\n",
        "  return X_train\n",
        "  "
      ],
      "execution_count": null,
      "outputs": []
    },
    {
      "cell_type": "code",
      "metadata": {
        "id": "l3NKbA02CT7p",
        "colab_type": "code",
        "colab": {
          "base_uri": "https://localhost:8080/",
          "height": 104
        },
        "outputId": "908ce9e1-c886-45c9-941b-442494e0bfc6"
      },
      "source": [
        "other_df = other_crossings(df_datetime)"
      ],
      "execution_count": null,
      "outputs": [
        {
          "output_type": "stream",
          "text": [
            "/usr/local/lib/python3.6/dist-packages/ipykernel_launcher.py:15: RuntimeWarning: divide by zero encountered in double_scalars\n",
            "  from ipykernel import kernelapp as app\n",
            "/usr/local/lib/python3.6/dist-packages/ipykernel_launcher.py:17: RuntimeWarning: divide by zero encountered in double_scalars\n",
            "/usr/local/lib/python3.6/dist-packages/ipykernel_launcher.py:19: RuntimeWarning: divide by zero encountered in double_scalars\n",
            "/usr/local/lib/python3.6/dist-packages/ipykernel_launcher.py:19: RuntimeWarning: invalid value encountered in double_scalars\n"
          ],
          "name": "stderr"
        }
      ]
    },
    {
      "cell_type": "code",
      "metadata": {
        "id": "qRlrXwHo6ON8",
        "colab_type": "code",
        "colab": {}
      },
      "source": [
        "other_df['label'].replace(['correct', 'incorrect'], value = [1, 0], inplace = True)"
      ],
      "execution_count": null,
      "outputs": []
    },
    {
      "cell_type": "code",
      "metadata": {
        "id": "BKiLF7AQJXaj",
        "colab_type": "code",
        "colab": {}
      },
      "source": [
        "sns.heatmap(other_df.corr(), annot = True, ax= ax)"
      ],
      "execution_count": null,
      "outputs": []
    },
    {
      "cell_type": "code",
      "metadata": {
        "id": "HbUarDPB6R33",
        "colab_type": "code",
        "colab": {}
      },
      "source": [
        "train_drop_some = other_df.drop(['tripid','drop_time', 'pickup_time', 'pick_lat', 'pick_lon', 'drop_lon', 'drop_lat', 'additional_fare'], axis = 1) "
      ],
      "execution_count": null,
      "outputs": []
    },
    {
      "cell_type": "code",
      "metadata": {
        "id": "-yT9D4p8UryS",
        "colab_type": "code",
        "colab": {
          "base_uri": "https://localhost:8080/",
          "height": 226
        },
        "outputId": "1de98aef-d379-45a9-a2d3-f8c695fc74da"
      },
      "source": [
        "train_drop_some.head()"
      ],
      "execution_count": null,
      "outputs": [
        {
          "output_type": "execute_result",
          "data": {
            "text/html": [
              "<div>\n",
              "<style scoped>\n",
              "    .dataframe tbody tr th:only-of-type {\n",
              "        vertical-align: middle;\n",
              "    }\n",
              "\n",
              "    .dataframe tbody tr th {\n",
              "        vertical-align: top;\n",
              "    }\n",
              "\n",
              "    .dataframe thead th {\n",
              "        text-align: right;\n",
              "    }\n",
              "</style>\n",
              "<table border=\"1\" class=\"dataframe\">\n",
              "  <thead>\n",
              "    <tr style=\"text-align: right;\">\n",
              "      <th></th>\n",
              "      <th>duration</th>\n",
              "      <th>meter_waiting</th>\n",
              "      <th>meter_waiting_fare</th>\n",
              "      <th>meter_waiting_till_pickup</th>\n",
              "      <th>fare</th>\n",
              "      <th>label</th>\n",
              "      <th>distances</th>\n",
              "      <th>driving_time</th>\n",
              "      <th>driving_fare</th>\n",
              "      <th>fare_per_driving_time</th>\n",
              "      <th>driving_fare_per_duration</th>\n",
              "      <th>driving_fare_per_driving_duration</th>\n",
              "      <th>fare_per_km</th>\n",
              "      <th>speed</th>\n",
              "      <th>p_minute</th>\n",
              "      <th>p_hour</th>\n",
              "      <th>p_day</th>\n",
              "      <th>p_month</th>\n",
              "      <th>fareperkmperhr</th>\n",
              "      <th>min_per_fare</th>\n",
              "      <th>addfareperhr</th>\n",
              "    </tr>\n",
              "  </thead>\n",
              "  <tbody>\n",
              "    <tr>\n",
              "      <th>0</th>\n",
              "      <td>834.0</td>\n",
              "      <td>56.0</td>\n",
              "      <td>0.0000</td>\n",
              "      <td>64.0</td>\n",
              "      <td>270.32</td>\n",
              "      <td>1</td>\n",
              "      <td>5.092770</td>\n",
              "      <td>778.0</td>\n",
              "      <td>259.8200</td>\n",
              "      <td>0.347455</td>\n",
              "      <td>0.311535</td>\n",
              "      <td>0.333959</td>\n",
              "      <td>53.079170</td>\n",
              "      <td>23.565516</td>\n",
              "      <td>20</td>\n",
              "      <td>0</td>\n",
              "      <td>1</td>\n",
              "      <td>11</td>\n",
              "      <td>737.800462</td>\n",
              "      <td>2.878070</td>\n",
              "      <td>2.061746</td>\n",
              "    </tr>\n",
              "    <tr>\n",
              "      <th>1</th>\n",
              "      <td>791.0</td>\n",
              "      <td>47.0</td>\n",
              "      <td>0.0000</td>\n",
              "      <td>134.0</td>\n",
              "      <td>197.85</td>\n",
              "      <td>1</td>\n",
              "      <td>3.168058</td>\n",
              "      <td>744.0</td>\n",
              "      <td>187.3500</td>\n",
              "      <td>0.265927</td>\n",
              "      <td>0.236852</td>\n",
              "      <td>0.251815</td>\n",
              "      <td>62.451516</td>\n",
              "      <td>15.329311</td>\n",
              "      <td>56</td>\n",
              "      <td>0</td>\n",
              "      <td>1</td>\n",
              "      <td>11</td>\n",
              "      <td>823.319157</td>\n",
              "      <td>3.760425</td>\n",
              "      <td>3.314334</td>\n",
              "    </tr>\n",
              "    <tr>\n",
              "      <th>2</th>\n",
              "      <td>1087.0</td>\n",
              "      <td>80.0</td>\n",
              "      <td>0.0000</td>\n",
              "      <td>61.0</td>\n",
              "      <td>301.64</td>\n",
              "      <td>1</td>\n",
              "      <td>6.305395</td>\n",
              "      <td>1007.0</td>\n",
              "      <td>291.1400</td>\n",
              "      <td>0.299543</td>\n",
              "      <td>0.267838</td>\n",
              "      <td>0.289116</td>\n",
              "      <td>47.838398</td>\n",
              "      <td>22.541631</td>\n",
              "      <td>8</td>\n",
              "      <td>1</td>\n",
              "      <td>1</td>\n",
              "      <td>11</td>\n",
              "      <td>866.672310</td>\n",
              "      <td>3.338417</td>\n",
              "      <td>1.665241</td>\n",
              "    </tr>\n",
              "    <tr>\n",
              "      <th>3</th>\n",
              "      <td>598.0</td>\n",
              "      <td>271.0</td>\n",
              "      <td>15.6638</td>\n",
              "      <td>68.0</td>\n",
              "      <td>82.30</td>\n",
              "      <td>1</td>\n",
              "      <td>0.861946</td>\n",
              "      <td>327.0</td>\n",
              "      <td>56.1362</td>\n",
              "      <td>0.251682</td>\n",
              "      <td>0.093873</td>\n",
              "      <td>0.171670</td>\n",
              "      <td>95.481606</td>\n",
              "      <td>9.489315</td>\n",
              "      <td>27</td>\n",
              "      <td>2</td>\n",
              "      <td>1</td>\n",
              "      <td>11</td>\n",
              "      <td>770.513119</td>\n",
              "      <td>3.973269</td>\n",
              "      <td>12.181736</td>\n",
              "    </tr>\n",
              "    <tr>\n",
              "      <th>5</th>\n",
              "      <td>3407.0</td>\n",
              "      <td>182.0</td>\n",
              "      <td>0.0000</td>\n",
              "      <td>112.0</td>\n",
              "      <td>1065.02</td>\n",
              "      <td>1</td>\n",
              "      <td>24.207039</td>\n",
              "      <td>3225.0</td>\n",
              "      <td>1054.5200</td>\n",
              "      <td>0.330239</td>\n",
              "      <td>0.309516</td>\n",
              "      <td>0.326983</td>\n",
              "      <td>43.996293</td>\n",
              "      <td>27.021811</td>\n",
              "      <td>38</td>\n",
              "      <td>5</td>\n",
              "      <td>1</td>\n",
              "      <td>11</td>\n",
              "      <td>2498.256191</td>\n",
              "      <td>3.028112</td>\n",
              "      <td>0.433758</td>\n",
              "    </tr>\n",
              "  </tbody>\n",
              "</table>\n",
              "</div>"
            ],
            "text/plain": [
              "   duration  meter_waiting  ...  min_per_fare  addfareperhr\n",
              "0     834.0           56.0  ...      2.878070      2.061746\n",
              "1     791.0           47.0  ...      3.760425      3.314334\n",
              "2    1087.0           80.0  ...      3.338417      1.665241\n",
              "3     598.0          271.0  ...      3.973269     12.181736\n",
              "5    3407.0          182.0  ...      3.028112      0.433758\n",
              "\n",
              "[5 rows x 21 columns]"
            ]
          },
          "metadata": {
            "tags": []
          },
          "execution_count": 60
        }
      ]
    },
    {
      "cell_type": "code",
      "metadata": {
        "id": "ikxWaL3z6WK8",
        "colab_type": "code",
        "colab": {
          "base_uri": "https://localhost:8080/",
          "height": 226
        },
        "outputId": "e48c2dd9-c751-416c-a88e-781a00cd467e"
      },
      "source": [
        "train_drop_some.head()"
      ],
      "execution_count": null,
      "outputs": [
        {
          "output_type": "execute_result",
          "data": {
            "text/html": [
              "<div>\n",
              "<style scoped>\n",
              "    .dataframe tbody tr th:only-of-type {\n",
              "        vertical-align: middle;\n",
              "    }\n",
              "\n",
              "    .dataframe tbody tr th {\n",
              "        vertical-align: top;\n",
              "    }\n",
              "\n",
              "    .dataframe thead th {\n",
              "        text-align: right;\n",
              "    }\n",
              "</style>\n",
              "<table border=\"1\" class=\"dataframe\">\n",
              "  <thead>\n",
              "    <tr style=\"text-align: right;\">\n",
              "      <th></th>\n",
              "      <th>duration</th>\n",
              "      <th>meter_waiting</th>\n",
              "      <th>meter_waiting_fare</th>\n",
              "      <th>meter_waiting_till_pickup</th>\n",
              "      <th>fare</th>\n",
              "      <th>label</th>\n",
              "      <th>distance</th>\n",
              "      <th>driving_time</th>\n",
              "      <th>driving_fare</th>\n",
              "      <th>fare_per_duration</th>\n",
              "      <th>fare_per_driving_time</th>\n",
              "      <th>driving_fare_per_duration</th>\n",
              "      <th>driving_fare_per_driving_duration</th>\n",
              "      <th>pickup_hour</th>\n",
              "      <th>pickup_minute</th>\n",
              "      <th>pickup_month</th>\n",
              "      <th>pickup_date</th>\n",
              "      <th>fare_per_distance</th>\n",
              "      <th>driving_speed</th>\n",
              "    </tr>\n",
              "  </thead>\n",
              "  <tbody>\n",
              "    <tr>\n",
              "      <th>0</th>\n",
              "      <td>834.0</td>\n",
              "      <td>56.0</td>\n",
              "      <td>0.0000</td>\n",
              "      <td>64.0</td>\n",
              "      <td>270.32</td>\n",
              "      <td>1</td>\n",
              "      <td>5.092770</td>\n",
              "      <td>778.0</td>\n",
              "      <td>259.8200</td>\n",
              "      <td>0.324125</td>\n",
              "      <td>0.347455</td>\n",
              "      <td>0.311535</td>\n",
              "      <td>0.333959</td>\n",
              "      <td>0</td>\n",
              "      <td>20</td>\n",
              "      <td>11</td>\n",
              "      <td>1</td>\n",
              "      <td>53.079170</td>\n",
              "      <td>0.006546</td>\n",
              "    </tr>\n",
              "    <tr>\n",
              "      <th>1</th>\n",
              "      <td>791.0</td>\n",
              "      <td>47.0</td>\n",
              "      <td>0.0000</td>\n",
              "      <td>134.0</td>\n",
              "      <td>197.85</td>\n",
              "      <td>1</td>\n",
              "      <td>3.168058</td>\n",
              "      <td>744.0</td>\n",
              "      <td>187.3500</td>\n",
              "      <td>0.250126</td>\n",
              "      <td>0.265927</td>\n",
              "      <td>0.236852</td>\n",
              "      <td>0.251815</td>\n",
              "      <td>0</td>\n",
              "      <td>56</td>\n",
              "      <td>11</td>\n",
              "      <td>1</td>\n",
              "      <td>62.451516</td>\n",
              "      <td>0.004258</td>\n",
              "    </tr>\n",
              "    <tr>\n",
              "      <th>2</th>\n",
              "      <td>1087.0</td>\n",
              "      <td>80.0</td>\n",
              "      <td>0.0000</td>\n",
              "      <td>61.0</td>\n",
              "      <td>301.64</td>\n",
              "      <td>1</td>\n",
              "      <td>6.305395</td>\n",
              "      <td>1007.0</td>\n",
              "      <td>291.1400</td>\n",
              "      <td>0.277498</td>\n",
              "      <td>0.299543</td>\n",
              "      <td>0.267838</td>\n",
              "      <td>0.289116</td>\n",
              "      <td>1</td>\n",
              "      <td>8</td>\n",
              "      <td>11</td>\n",
              "      <td>1</td>\n",
              "      <td>47.838398</td>\n",
              "      <td>0.006262</td>\n",
              "    </tr>\n",
              "    <tr>\n",
              "      <th>3</th>\n",
              "      <td>598.0</td>\n",
              "      <td>271.0</td>\n",
              "      <td>15.6638</td>\n",
              "      <td>68.0</td>\n",
              "      <td>82.30</td>\n",
              "      <td>1</td>\n",
              "      <td>0.861946</td>\n",
              "      <td>327.0</td>\n",
              "      <td>56.1362</td>\n",
              "      <td>0.137625</td>\n",
              "      <td>0.251682</td>\n",
              "      <td>0.093873</td>\n",
              "      <td>0.171670</td>\n",
              "      <td>2</td>\n",
              "      <td>27</td>\n",
              "      <td>11</td>\n",
              "      <td>1</td>\n",
              "      <td>95.481606</td>\n",
              "      <td>0.002636</td>\n",
              "    </tr>\n",
              "    <tr>\n",
              "      <th>5</th>\n",
              "      <td>3407.0</td>\n",
              "      <td>182.0</td>\n",
              "      <td>0.0000</td>\n",
              "      <td>112.0</td>\n",
              "      <td>1065.02</td>\n",
              "      <td>1</td>\n",
              "      <td>24.207039</td>\n",
              "      <td>3225.0</td>\n",
              "      <td>1054.5200</td>\n",
              "      <td>0.312598</td>\n",
              "      <td>0.330239</td>\n",
              "      <td>0.309516</td>\n",
              "      <td>0.326983</td>\n",
              "      <td>5</td>\n",
              "      <td>38</td>\n",
              "      <td>11</td>\n",
              "      <td>1</td>\n",
              "      <td>43.996293</td>\n",
              "      <td>0.007506</td>\n",
              "    </tr>\n",
              "  </tbody>\n",
              "</table>\n",
              "</div>"
            ],
            "text/plain": [
              "   duration  meter_waiting  ...  fare_per_distance  driving_speed\n",
              "0     834.0           56.0  ...          53.079170       0.006546\n",
              "1     791.0           47.0  ...          62.451516       0.004258\n",
              "2    1087.0           80.0  ...          47.838398       0.006262\n",
              "3     598.0          271.0  ...          95.481606       0.002636\n",
              "5    3407.0          182.0  ...          43.996293       0.007506\n",
              "\n",
              "[5 rows x 19 columns]"
            ]
          },
          "metadata": {
            "tags": []
          },
          "execution_count": 14
        }
      ]
    },
    {
      "cell_type": "code",
      "metadata": {
        "id": "-dZ_3G22XKHt",
        "colab_type": "code",
        "colab": {}
      },
      "source": [
        "def preprocess(df):\n",
        "  process_df = df.copy()\n",
        "  process_df = datetimeprocess(process_df)\n",
        "  process_df = process_df.dropna()\n",
        "  process_df = calc_distance(process_df) \n",
        "  process_df = fare_per_km(process_df)\n",
        "  return process_df"
      ],
      "execution_count": null,
      "outputs": []
    },
    {
      "cell_type": "code",
      "metadata": {
        "id": "TOzOODKyjPT7",
        "colab_type": "code",
        "colab": {}
      },
      "source": [
        "def preprocess(df):\n",
        "  process_df = df.copy()\n",
        "  process_df = datetime_process(process_df)\n",
        "  process_df = process_df.dropna()\n",
        "  process_df = calc_distance(process_df) \n",
        "  process_df = crossing_inverse(process_df)\n",
        "  return process_df"
      ],
      "execution_count": null,
      "outputs": []
    },
    {
      "cell_type": "code",
      "metadata": {
        "id": "9xDye2UMXka2",
        "colab_type": "code",
        "colab": {
          "base_uri": "https://localhost:8080/",
          "height": 225
        },
        "outputId": "683ec353-6420-4013-ac8c-e0d0f57e65d0"
      },
      "source": [
        "process_df = preprocess(train_df)"
      ],
      "execution_count": null,
      "outputs": [
        {
          "output_type": "stream",
          "text": [
            "/usr/local/lib/python3.6/dist-packages/ipykernel_launcher.py:9: RuntimeWarning: divide by zero encountered in double_scalars\n",
            "  if __name__ == '__main__':\n",
            "/usr/local/lib/python3.6/dist-packages/ipykernel_launcher.py:11: RuntimeWarning: divide by zero encountered in double_scalars\n",
            "  # This is added back by InteractiveShellApp.init_path()\n",
            "/usr/local/lib/python3.6/dist-packages/ipykernel_launcher.py:13: RuntimeWarning: divide by zero encountered in double_scalars\n",
            "  del sys.path[0]\n",
            "/usr/local/lib/python3.6/dist-packages/ipykernel_launcher.py:15: RuntimeWarning: divide by zero encountered in double_scalars\n",
            "  from ipykernel import kernelapp as app\n",
            "/usr/local/lib/python3.6/dist-packages/ipykernel_launcher.py:11: RuntimeWarning: invalid value encountered in double_scalars\n",
            "  # This is added back by InteractiveShellApp.init_path()\n",
            "/usr/local/lib/python3.6/dist-packages/ipykernel_launcher.py:13: RuntimeWarning: invalid value encountered in double_scalars\n",
            "  del sys.path[0]\n"
          ],
          "name": "stderr"
        }
      ]
    },
    {
      "cell_type": "code",
      "metadata": {
        "id": "JltCBeR3ZLzC",
        "colab_type": "code",
        "colab": {
          "base_uri": "https://localhost:8080/",
          "height": 313
        },
        "outputId": "11f243ac-a323-4b71-f985-4d2f888a49bc"
      },
      "source": [
        "process_df.head()"
      ],
      "execution_count": null,
      "outputs": [
        {
          "output_type": "execute_result",
          "data": {
            "text/html": [
              "<div>\n",
              "<style scoped>\n",
              "    .dataframe tbody tr th:only-of-type {\n",
              "        vertical-align: middle;\n",
              "    }\n",
              "\n",
              "    .dataframe tbody tr th {\n",
              "        vertical-align: top;\n",
              "    }\n",
              "\n",
              "    .dataframe thead th {\n",
              "        text-align: right;\n",
              "    }\n",
              "</style>\n",
              "<table border=\"1\" class=\"dataframe\">\n",
              "  <thead>\n",
              "    <tr style=\"text-align: right;\">\n",
              "      <th></th>\n",
              "      <th>tripid</th>\n",
              "      <th>additional_fare</th>\n",
              "      <th>duration</th>\n",
              "      <th>meter_waiting</th>\n",
              "      <th>meter_waiting_fare</th>\n",
              "      <th>meter_waiting_till_pickup</th>\n",
              "      <th>pickup_time</th>\n",
              "      <th>drop_time</th>\n",
              "      <th>pick_lat</th>\n",
              "      <th>pick_lon</th>\n",
              "      <th>drop_lat</th>\n",
              "      <th>drop_lon</th>\n",
              "      <th>fare</th>\n",
              "      <th>label</th>\n",
              "      <th>p_minute</th>\n",
              "      <th>p_hour</th>\n",
              "      <th>p_day</th>\n",
              "      <th>p_month</th>\n",
              "      <th>distances</th>\n",
              "      <th>avg_fare</th>\n",
              "      <th>speed</th>\n",
              "      <th>avg_fare_dist</th>\n",
              "      <th>avg_driving_fare</th>\n",
              "    </tr>\n",
              "  </thead>\n",
              "  <tbody>\n",
              "    <tr>\n",
              "      <th>0</th>\n",
              "      <td>189123628</td>\n",
              "      <td>10.5</td>\n",
              "      <td>834.0</td>\n",
              "      <td>56.0</td>\n",
              "      <td>0.0000</td>\n",
              "      <td>64.0</td>\n",
              "      <td>2019-11-01 00:20:00</td>\n",
              "      <td>2019-11-01 00:34:00</td>\n",
              "      <td>6.86252</td>\n",
              "      <td>79.8993</td>\n",
              "      <td>6.90330</td>\n",
              "      <td>79.8783</td>\n",
              "      <td>270.32</td>\n",
              "      <td>correct</td>\n",
              "      <td>20</td>\n",
              "      <td>0</td>\n",
              "      <td>1</td>\n",
              "      <td>11</td>\n",
              "      <td>5.092770</td>\n",
              "      <td>2.878070</td>\n",
              "      <td>0.006546</td>\n",
              "      <td>0.018840</td>\n",
              "      <td>2.994381</td>\n",
              "    </tr>\n",
              "    <tr>\n",
              "      <th>1</th>\n",
              "      <td>189125358</td>\n",
              "      <td>10.5</td>\n",
              "      <td>791.0</td>\n",
              "      <td>47.0</td>\n",
              "      <td>0.0000</td>\n",
              "      <td>134.0</td>\n",
              "      <td>2019-11-01 00:56:00</td>\n",
              "      <td>2019-11-01 01:09:00</td>\n",
              "      <td>6.88589</td>\n",
              "      <td>79.8984</td>\n",
              "      <td>6.91373</td>\n",
              "      <td>79.8923</td>\n",
              "      <td>197.85</td>\n",
              "      <td>correct</td>\n",
              "      <td>56</td>\n",
              "      <td>0</td>\n",
              "      <td>1</td>\n",
              "      <td>11</td>\n",
              "      <td>3.168058</td>\n",
              "      <td>3.760425</td>\n",
              "      <td>0.004258</td>\n",
              "      <td>0.016012</td>\n",
              "      <td>3.971177</td>\n",
              "    </tr>\n",
              "    <tr>\n",
              "      <th>2</th>\n",
              "      <td>189125719</td>\n",
              "      <td>10.5</td>\n",
              "      <td>1087.0</td>\n",
              "      <td>80.0</td>\n",
              "      <td>0.0000</td>\n",
              "      <td>61.0</td>\n",
              "      <td>2019-11-01 01:08:00</td>\n",
              "      <td>2019-11-01 01:26:00</td>\n",
              "      <td>6.90839</td>\n",
              "      <td>79.8651</td>\n",
              "      <td>6.93669</td>\n",
              "      <td>79.9146</td>\n",
              "      <td>301.64</td>\n",
              "      <td>correct</td>\n",
              "      <td>8</td>\n",
              "      <td>1</td>\n",
              "      <td>1</td>\n",
              "      <td>11</td>\n",
              "      <td>6.305395</td>\n",
              "      <td>3.338417</td>\n",
              "      <td>0.006262</td>\n",
              "      <td>0.020904</td>\n",
              "      <td>3.458817</td>\n",
              "    </tr>\n",
              "    <tr>\n",
              "      <th>3</th>\n",
              "      <td>189127273</td>\n",
              "      <td>10.5</td>\n",
              "      <td>598.0</td>\n",
              "      <td>271.0</td>\n",
              "      <td>15.6638</td>\n",
              "      <td>68.0</td>\n",
              "      <td>2019-11-01 02:27:00</td>\n",
              "      <td>2019-11-01 02:37:00</td>\n",
              "      <td>6.92570</td>\n",
              "      <td>79.8895</td>\n",
              "      <td>6.92748</td>\n",
              "      <td>79.8971</td>\n",
              "      <td>82.30</td>\n",
              "      <td>correct</td>\n",
              "      <td>27</td>\n",
              "      <td>2</td>\n",
              "      <td>1</td>\n",
              "      <td>11</td>\n",
              "      <td>0.861946</td>\n",
              "      <td>3.973269</td>\n",
              "      <td>0.002636</td>\n",
              "      <td>0.010473</td>\n",
              "      <td>5.825118</td>\n",
              "    </tr>\n",
              "    <tr>\n",
              "      <th>5</th>\n",
              "      <td>189129552</td>\n",
              "      <td>10.5</td>\n",
              "      <td>3407.0</td>\n",
              "      <td>182.0</td>\n",
              "      <td>0.0000</td>\n",
              "      <td>112.0</td>\n",
              "      <td>2019-11-01 05:38:00</td>\n",
              "      <td>2019-11-01 06:35:00</td>\n",
              "      <td>7.13402</td>\n",
              "      <td>79.8969</td>\n",
              "      <td>6.91865</td>\n",
              "      <td>79.8649</td>\n",
              "      <td>1065.02</td>\n",
              "      <td>correct</td>\n",
              "      <td>38</td>\n",
              "      <td>5</td>\n",
              "      <td>1</td>\n",
              "      <td>11</td>\n",
              "      <td>24.207039</td>\n",
              "      <td>3.028112</td>\n",
              "      <td>0.007506</td>\n",
              "      <td>0.022729</td>\n",
              "      <td>3.058263</td>\n",
              "    </tr>\n",
              "  </tbody>\n",
              "</table>\n",
              "</div>"
            ],
            "text/plain": [
              "      tripid  additional_fare  ...  avg_fare_dist  avg_driving_fare\n",
              "0  189123628             10.5  ...       0.018840          2.994381\n",
              "1  189125358             10.5  ...       0.016012          3.971177\n",
              "2  189125719             10.5  ...       0.020904          3.458817\n",
              "3  189127273             10.5  ...       0.010473          5.825118\n",
              "5  189129552             10.5  ...       0.022729          3.058263\n",
              "\n",
              "[5 rows x 23 columns]"
            ]
          },
          "metadata": {
            "tags": []
          },
          "execution_count": 48
        }
      ]
    },
    {
      "cell_type": "code",
      "metadata": {
        "id": "u1nASf9Q6ZEh",
        "colab_type": "code",
        "colab": {}
      },
      "source": [
        "process_df['label'].replace(['correct', 'incorrect'], value = [1, 0], inplace = True)\n",
        "train_drop_some = process_df.drop(['tripid','drop_time', 'pickup_time', 'pick_lat', 'pick_lon', 'drop_lon', 'drop_lat', 'additional_fare'], axis = 1) "
      ],
      "execution_count": null,
      "outputs": []
    },
    {
      "cell_type": "code",
      "metadata": {
        "id": "eofRD5Oj3r2_",
        "colab_type": "code",
        "colab": {
          "base_uri": "https://localhost:8080/",
          "height": 206
        },
        "outputId": "68b58769-7c07-4760-9533-ac4b656c8001"
      },
      "source": [
        "train_drop_some.head()"
      ],
      "execution_count": null,
      "outputs": [
        {
          "output_type": "execute_result",
          "data": {
            "text/html": [
              "<div>\n",
              "<style scoped>\n",
              "    .dataframe tbody tr th:only-of-type {\n",
              "        vertical-align: middle;\n",
              "    }\n",
              "\n",
              "    .dataframe tbody tr th {\n",
              "        vertical-align: top;\n",
              "    }\n",
              "\n",
              "    .dataframe thead th {\n",
              "        text-align: right;\n",
              "    }\n",
              "</style>\n",
              "<table border=\"1\" class=\"dataframe\">\n",
              "  <thead>\n",
              "    <tr style=\"text-align: right;\">\n",
              "      <th></th>\n",
              "      <th>duration</th>\n",
              "      <th>meter_waiting</th>\n",
              "      <th>meter_waiting_fare</th>\n",
              "      <th>meter_waiting_till_pickup</th>\n",
              "      <th>fare</th>\n",
              "      <th>label</th>\n",
              "      <th>p_minute</th>\n",
              "      <th>p_hour</th>\n",
              "      <th>p_day</th>\n",
              "      <th>p_month</th>\n",
              "      <th>distances</th>\n",
              "      <th>avg_fare</th>\n",
              "      <th>speed</th>\n",
              "      <th>avg_fare_dist</th>\n",
              "      <th>avg_driving_fare</th>\n",
              "    </tr>\n",
              "  </thead>\n",
              "  <tbody>\n",
              "    <tr>\n",
              "      <th>0</th>\n",
              "      <td>834.0</td>\n",
              "      <td>56.0</td>\n",
              "      <td>0.0000</td>\n",
              "      <td>64.0</td>\n",
              "      <td>270.32</td>\n",
              "      <td>1</td>\n",
              "      <td>20</td>\n",
              "      <td>0</td>\n",
              "      <td>1</td>\n",
              "      <td>11</td>\n",
              "      <td>5.092770</td>\n",
              "      <td>2.878070</td>\n",
              "      <td>0.006546</td>\n",
              "      <td>0.018840</td>\n",
              "      <td>2.994381</td>\n",
              "    </tr>\n",
              "    <tr>\n",
              "      <th>1</th>\n",
              "      <td>791.0</td>\n",
              "      <td>47.0</td>\n",
              "      <td>0.0000</td>\n",
              "      <td>134.0</td>\n",
              "      <td>197.85</td>\n",
              "      <td>1</td>\n",
              "      <td>56</td>\n",
              "      <td>0</td>\n",
              "      <td>1</td>\n",
              "      <td>11</td>\n",
              "      <td>3.168058</td>\n",
              "      <td>3.760425</td>\n",
              "      <td>0.004258</td>\n",
              "      <td>0.016012</td>\n",
              "      <td>3.971177</td>\n",
              "    </tr>\n",
              "    <tr>\n",
              "      <th>2</th>\n",
              "      <td>1087.0</td>\n",
              "      <td>80.0</td>\n",
              "      <td>0.0000</td>\n",
              "      <td>61.0</td>\n",
              "      <td>301.64</td>\n",
              "      <td>1</td>\n",
              "      <td>8</td>\n",
              "      <td>1</td>\n",
              "      <td>1</td>\n",
              "      <td>11</td>\n",
              "      <td>6.305395</td>\n",
              "      <td>3.338417</td>\n",
              "      <td>0.006262</td>\n",
              "      <td>0.020904</td>\n",
              "      <td>3.458817</td>\n",
              "    </tr>\n",
              "    <tr>\n",
              "      <th>3</th>\n",
              "      <td>598.0</td>\n",
              "      <td>271.0</td>\n",
              "      <td>15.6638</td>\n",
              "      <td>68.0</td>\n",
              "      <td>82.30</td>\n",
              "      <td>1</td>\n",
              "      <td>27</td>\n",
              "      <td>2</td>\n",
              "      <td>1</td>\n",
              "      <td>11</td>\n",
              "      <td>0.861946</td>\n",
              "      <td>3.973269</td>\n",
              "      <td>0.002636</td>\n",
              "      <td>0.010473</td>\n",
              "      <td>5.825118</td>\n",
              "    </tr>\n",
              "    <tr>\n",
              "      <th>5</th>\n",
              "      <td>3407.0</td>\n",
              "      <td>182.0</td>\n",
              "      <td>0.0000</td>\n",
              "      <td>112.0</td>\n",
              "      <td>1065.02</td>\n",
              "      <td>1</td>\n",
              "      <td>38</td>\n",
              "      <td>5</td>\n",
              "      <td>1</td>\n",
              "      <td>11</td>\n",
              "      <td>24.207039</td>\n",
              "      <td>3.028112</td>\n",
              "      <td>0.007506</td>\n",
              "      <td>0.022729</td>\n",
              "      <td>3.058263</td>\n",
              "    </tr>\n",
              "  </tbody>\n",
              "</table>\n",
              "</div>"
            ],
            "text/plain": [
              "   duration  meter_waiting  ...  avg_fare_dist  avg_driving_fare\n",
              "0     834.0           56.0  ...       0.018840          2.994381\n",
              "1     791.0           47.0  ...       0.016012          3.971177\n",
              "2    1087.0           80.0  ...       0.020904          3.458817\n",
              "3     598.0          271.0  ...       0.010473          5.825118\n",
              "5    3407.0          182.0  ...       0.022729          3.058263\n",
              "\n",
              "[5 rows x 15 columns]"
            ]
          },
          "metadata": {
            "tags": []
          },
          "execution_count": 52
        }
      ]
    },
    {
      "cell_type": "code",
      "metadata": {
        "id": "bHCOZaoA6bmR",
        "colab_type": "code",
        "colab": {
          "base_uri": "https://localhost:8080/",
          "height": 34
        },
        "outputId": "e52cbcfc-608e-4c82-cb3a-cde1eb51cb37"
      },
      "source": [
        "hf = h2o.H2OFrame(train_drop_some)\n",
        "\n",
        "x = hf.columns\n",
        "y = \"label\"\n",
        "x.remove(y)\n",
        "\n",
        "hf['label'] = hf['label'].asfactor()\n",
        "\n",
        "aml = H2OAutoML(max_models=60, seed=1, max_runtime_secs=4500)"
      ],
      "execution_count": null,
      "outputs": [
        {
          "output_type": "stream",
          "text": [
            "Parse progress: |█████████████████████████████████████████████████████████| 100%\n"
          ],
          "name": "stdout"
        }
      ]
    },
    {
      "cell_type": "code",
      "metadata": {
        "id": "sbVZrkceU1k-",
        "colab_type": "code",
        "colab": {}
      },
      "source": [
        "aml.train(x=x, y=y, training_frame=hf)\n",
        "lb = aml.leaderboard\n",
        "lb.head()"
      ],
      "execution_count": null,
      "outputs": []
    },
    {
      "cell_type": "code",
      "metadata": {
        "id": "MAlxrGax7LV6",
        "colab_type": "code",
        "colab": {
          "base_uri": "https://localhost:8080/",
          "height": 271
        },
        "outputId": "729ec31e-47a5-4f01-d3b5-a4ae5133f9e8"
      },
      "source": [
        "aml.train(x=x, y=y, training_frame=hf)\n",
        "lb = aml.leaderboard\n",
        "lb.head()"
      ],
      "execution_count": null,
      "outputs": [
        {
          "output_type": "stream",
          "text": [
            "AutoML progress: |████████████████████████████████████████████████████████| 100%\n"
          ],
          "name": "stdout"
        },
        {
          "output_type": "display_data",
          "data": {
            "text/html": [
              "<table>\n",
              "<thead>\n",
              "<tr><th>model_id                                           </th><th style=\"text-align: right;\">     auc</th><th style=\"text-align: right;\">  logloss</th><th style=\"text-align: right;\">   aucpr</th><th style=\"text-align: right;\">  mean_per_class_error</th><th style=\"text-align: right;\">    rmse</th><th style=\"text-align: right;\">      mse</th></tr>\n",
              "</thead>\n",
              "<tbody>\n",
              "<tr><td>XGBoost_grid__1_AutoML_20200610_102822_model_6     </td><td style=\"text-align: right;\">0.940615</td><td style=\"text-align: right;\"> 0.129564</td><td style=\"text-align: right;\">0.991466</td><td style=\"text-align: right;\">              0.166897</td><td style=\"text-align: right;\">0.182894</td><td style=\"text-align: right;\">0.0334501</td></tr>\n",
              "<tr><td>StackedEnsemble_AllModels_AutoML_20200610_102822   </td><td style=\"text-align: right;\">0.938567</td><td style=\"text-align: right;\"> 0.137346</td><td style=\"text-align: right;\">0.990742</td><td style=\"text-align: right;\">              0.1686  </td><td style=\"text-align: right;\">0.185362</td><td style=\"text-align: right;\">0.0343589</td></tr>\n",
              "<tr><td>StackedEnsemble_BestOfFamily_AutoML_20200610_102822</td><td style=\"text-align: right;\">0.938321</td><td style=\"text-align: right;\"> 0.137587</td><td style=\"text-align: right;\">0.990683</td><td style=\"text-align: right;\">              0.159155</td><td style=\"text-align: right;\">0.185516</td><td style=\"text-align: right;\">0.0344161</td></tr>\n",
              "<tr><td>XGBoost_grid__1_AutoML_20200610_102822_model_17    </td><td style=\"text-align: right;\">0.938225</td><td style=\"text-align: right;\"> 0.133231</td><td style=\"text-align: right;\">0.991288</td><td style=\"text-align: right;\">              0.170133</td><td style=\"text-align: right;\">0.185161</td><td style=\"text-align: right;\">0.0342844</td></tr>\n",
              "<tr><td>XGBoost_grid__1_AutoML_20200610_102822_model_16    </td><td style=\"text-align: right;\">0.937812</td><td style=\"text-align: right;\"> 0.137849</td><td style=\"text-align: right;\">0.99085 </td><td style=\"text-align: right;\">              0.172997</td><td style=\"text-align: right;\">0.185417</td><td style=\"text-align: right;\">0.0343795</td></tr>\n",
              "<tr><td>XGBoost_grid__1_AutoML_20200610_102822_model_8     </td><td style=\"text-align: right;\">0.937476</td><td style=\"text-align: right;\"> 0.13542 </td><td style=\"text-align: right;\">0.990946</td><td style=\"text-align: right;\">              0.159446</td><td style=\"text-align: right;\">0.185148</td><td style=\"text-align: right;\">0.0342797</td></tr>\n",
              "<tr><td>XGBoost_grid__1_AutoML_20200610_102822_model_10    </td><td style=\"text-align: right;\">0.93729 </td><td style=\"text-align: right;\"> 0.132408</td><td style=\"text-align: right;\">0.990976</td><td style=\"text-align: right;\">              0.181123</td><td style=\"text-align: right;\">0.184601</td><td style=\"text-align: right;\">0.0340775</td></tr>\n",
              "<tr><td>XGBoost_grid__1_AutoML_20200610_102822_model_18    </td><td style=\"text-align: right;\">0.937149</td><td style=\"text-align: right;\"> 0.133323</td><td style=\"text-align: right;\">0.990613</td><td style=\"text-align: right;\">              0.178235</td><td style=\"text-align: right;\">0.185507</td><td style=\"text-align: right;\">0.034413 </td></tr>\n",
              "<tr><td>XGBoost_grid__1_AutoML_20200610_102822_model_2     </td><td style=\"text-align: right;\">0.936509</td><td style=\"text-align: right;\"> 0.134604</td><td style=\"text-align: right;\">0.990659</td><td style=\"text-align: right;\">              0.182272</td><td style=\"text-align: right;\">0.1851  </td><td style=\"text-align: right;\">0.0342621</td></tr>\n",
              "<tr><td>XGBoost_2_AutoML_20200610_102822                   </td><td style=\"text-align: right;\">0.936506</td><td style=\"text-align: right;\"> 0.135162</td><td style=\"text-align: right;\">0.991026</td><td style=\"text-align: right;\">              0.178951</td><td style=\"text-align: right;\">0.186887</td><td style=\"text-align: right;\">0.0349267</td></tr>\n",
              "</tbody>\n",
              "</table>"
            ]
          },
          "metadata": {
            "tags": []
          }
        },
        {
          "output_type": "execute_result",
          "data": {
            "text/plain": [
              ""
            ]
          },
          "metadata": {
            "tags": []
          },
          "execution_count": 17
        }
      ]
    },
    {
      "cell_type": "code",
      "metadata": {
        "id": "K9R0eIhA7O4_",
        "colab_type": "code",
        "colab": {}
      },
      "source": [
        "test = pd.read_csv(path + '/test.csv')"
      ],
      "execution_count": null,
      "outputs": []
    },
    {
      "cell_type": "code",
      "metadata": {
        "id": "lO0kxFJ83wmW",
        "colab_type": "code",
        "colab": {
          "base_uri": "https://localhost:8080/",
          "height": 104
        },
        "outputId": "24cb8f26-6d73-427b-fbfd-85cd011498d6"
      },
      "source": [
        "test = calc_distance(test)\n",
        "test = driving_time_fare(test)\n",
        "test = feature_cross_fare_time_zeros_handled(test)\n",
        "test = feature_cross_distance_zeros_handled(test)\n",
        "test = datetime_process(test)\n",
        "test = other_crossings(test)"
      ],
      "execution_count": null,
      "outputs": [
        {
          "output_type": "stream",
          "text": [
            "/usr/local/lib/python3.6/dist-packages/ipykernel_launcher.py:15: RuntimeWarning: divide by zero encountered in double_scalars\n",
            "  from ipykernel import kernelapp as app\n",
            "/usr/local/lib/python3.6/dist-packages/ipykernel_launcher.py:17: RuntimeWarning: divide by zero encountered in double_scalars\n",
            "/usr/local/lib/python3.6/dist-packages/ipykernel_launcher.py:19: RuntimeWarning: invalid value encountered in true_divide\n",
            "/usr/local/lib/python3.6/dist-packages/ipykernel_launcher.py:19: RuntimeWarning: divide by zero encountered in true_divide\n"
          ],
          "name": "stderr"
        }
      ]
    },
    {
      "cell_type": "code",
      "metadata": {
        "id": "xFw0e9xPpDIG",
        "colab_type": "code",
        "colab": {
          "base_uri": "https://localhost:8080/",
          "height": 260
        },
        "outputId": "cb17ddf4-9f07-493b-c59b-89fdde1ee231"
      },
      "source": [
        "test = preprocess(test)"
      ],
      "execution_count": null,
      "outputs": [
        {
          "output_type": "stream",
          "text": [
            "/usr/local/lib/python3.6/dist-packages/ipykernel_launcher.py:9: RuntimeWarning: divide by zero encountered in double_scalars\n",
            "  if __name__ == '__main__':\n",
            "/usr/local/lib/python3.6/dist-packages/ipykernel_launcher.py:11: RuntimeWarning: invalid value encountered in true_divide\n",
            "  # This is added back by InteractiveShellApp.init_path()\n",
            "/usr/local/lib/python3.6/dist-packages/ipykernel_launcher.py:13: RuntimeWarning: invalid value encountered in true_divide\n",
            "  del sys.path[0]\n",
            "/usr/local/lib/python3.6/dist-packages/ipykernel_launcher.py:15: RuntimeWarning: divide by zero encountered in double_scalars\n",
            "  from ipykernel import kernelapp as app\n",
            "/usr/local/lib/python3.6/dist-packages/ipykernel_launcher.py:11: RuntimeWarning: divide by zero encountered in true_divide\n",
            "  # This is added back by InteractiveShellApp.init_path()\n",
            "/usr/local/lib/python3.6/dist-packages/ipykernel_launcher.py:13: RuntimeWarning: divide by zero encountered in true_divide\n",
            "  del sys.path[0]\n",
            "/usr/local/lib/python3.6/dist-packages/ipykernel_launcher.py:9: RuntimeWarning: invalid value encountered in double_scalars\n",
            "  if __name__ == '__main__':\n"
          ],
          "name": "stderr"
        }
      ]
    },
    {
      "cell_type": "code",
      "metadata": {
        "id": "9SdRP1i8LaoR",
        "colab_type": "code",
        "colab": {}
      },
      "source": [
        "test = test.drop(['tripid','drop_time', 'pickup_time', 'pick_lat', 'pick_lon', 'drop_lon', 'drop_lat', 'additional_fare'], axis = 1)"
      ],
      "execution_count": null,
      "outputs": []
    },
    {
      "cell_type": "code",
      "metadata": {
        "id": "2XgglvMjLdyM",
        "colab_type": "code",
        "colab": {
          "base_uri": "https://localhost:8080/",
          "height": 34
        },
        "outputId": "64b808cf-b5a4-45d3-8e98-2f356726c2a8"
      },
      "source": [
        "test.shape"
      ],
      "execution_count": null,
      "outputs": [
        {
          "output_type": "execute_result",
          "data": {
            "text/plain": [
              "(8576, 14)"
            ]
          },
          "metadata": {
            "tags": []
          },
          "execution_count": 59
        }
      ]
    },
    {
      "cell_type": "code",
      "metadata": {
        "id": "gsc-ak4sLfr-",
        "colab_type": "code",
        "colab": {
          "base_uri": "https://localhost:8080/",
          "height": 34
        },
        "outputId": "1566604c-3072-45e2-fb7f-fb602f3898f1"
      },
      "source": [
        "train_drop_some.shape"
      ],
      "execution_count": null,
      "outputs": [
        {
          "output_type": "execute_result",
          "data": {
            "text/plain": [
              "(16968, 15)"
            ]
          },
          "metadata": {
            "tags": []
          },
          "execution_count": 60
        }
      ]
    },
    {
      "cell_type": "code",
      "metadata": {
        "id": "HPyXgYTSLi27",
        "colab_type": "code",
        "colab": {}
      },
      "source": [
        "submission = pd.read_csv(path + '/sample_submission.csv')"
      ],
      "execution_count": null,
      "outputs": []
    },
    {
      "cell_type": "code",
      "metadata": {
        "id": "pOHGd8pZLn5e",
        "colab_type": "code",
        "colab": {}
      },
      "source": [
        "m = h2o.get_model(aml.leaderboard[2,\"model_id\"])"
      ],
      "execution_count": null,
      "outputs": []
    },
    {
      "cell_type": "code",
      "metadata": {
        "id": "86bxaO_q0Sr6",
        "colab_type": "code",
        "colab": {
          "base_uri": "https://localhost:8080/",
          "height": 729
        },
        "outputId": "864d8be2-4f0c-4b57-fc2d-18c94c35121f"
      },
      "source": [
        "feature_imp = m.varimp(use_pandas=True)\n",
        "x_imp = feature_imp.head(40)\n",
        "\n",
        "\n",
        "plt.figure(figsize=(20, 10))\n",
        "sns.barplot(x=\"relative_importance\", y=\"variable\", data=x_imp.sort_values(by=\"relative_importance\", ascending=False))\n",
        "plt.title('XGboost features')\n",
        "plt.tight_layout()\n",
        "plt.show()"
      ],
      "execution_count": null,
      "outputs": [
        {
          "output_type": "display_data",
          "data": {
            "image/png": "[encoded data removed]",
            "text/plain": [
              "<Figure size 1440x720 with 1 Axes>"
            ]
          },
          "metadata": {
            "tags": [],
            "needs_background": "light"
          }
        }
      ]
    },
    {
      "cell_type": "code",
      "metadata": {
        "id": "KOgiLrhuLqif",
        "colab_type": "code",
        "colab": {
          "base_uri": "https://localhost:8080/",
          "height": 398
        },
        "outputId": "2686e5ea-de2b-429d-b276-768e15453c9e"
      },
      "source": [
        "pred_hf = h2o.H2OFrame(test)\n",
        "predict = m.predict(pred_hf)\n",
        "pf = h2o.as_list(predict)\n",
        "\n",
        "submission['prediction'] = pf['predict']\n",
        "\n",
        "submission.head(10)"
      ],
      "execution_count": null,
      "outputs": [
        {
          "output_type": "stream",
          "text": [
            "Parse progress: |█████████████████████████████████████████████████████████| 100%\n",
            "xgboost prediction progress: |████████████████████████████████████████████| 100%\n"
          ],
          "name": "stdout"
        },
        {
          "output_type": "execute_result",
          "data": {
            "text/html": [
              "<div>\n",
              "<style scoped>\n",
              "    .dataframe tbody tr th:only-of-type {\n",
              "        vertical-align: middle;\n",
              "    }\n",
              "\n",
              "    .dataframe tbody tr th {\n",
              "        vertical-align: top;\n",
              "    }\n",
              "\n",
              "    .dataframe thead th {\n",
              "        text-align: right;\n",
              "    }\n",
              "</style>\n",
              "<table border=\"1\" class=\"dataframe\">\n",
              "  <thead>\n",
              "    <tr style=\"text-align: right;\">\n",
              "      <th></th>\n",
              "      <th>tripid</th>\n",
              "      <th>prediction</th>\n",
              "    </tr>\n",
              "  </thead>\n",
              "  <tbody>\n",
              "    <tr>\n",
              "      <th>0</th>\n",
              "      <td>213284604</td>\n",
              "      <td>1</td>\n",
              "    </tr>\n",
              "    <tr>\n",
              "      <th>1</th>\n",
              "      <td>213286352</td>\n",
              "      <td>1</td>\n",
              "    </tr>\n",
              "    <tr>\n",
              "      <th>2</th>\n",
              "      <td>213293973</td>\n",
              "      <td>1</td>\n",
              "    </tr>\n",
              "    <tr>\n",
              "      <th>3</th>\n",
              "      <td>213294622</td>\n",
              "      <td>1</td>\n",
              "    </tr>\n",
              "    <tr>\n",
              "      <th>4</th>\n",
              "      <td>213298687</td>\n",
              "      <td>1</td>\n",
              "    </tr>\n",
              "    <tr>\n",
              "      <th>5</th>\n",
              "      <td>213299545</td>\n",
              "      <td>0</td>\n",
              "    </tr>\n",
              "    <tr>\n",
              "      <th>6</th>\n",
              "      <td>213302332</td>\n",
              "      <td>1</td>\n",
              "    </tr>\n",
              "    <tr>\n",
              "      <th>7</th>\n",
              "      <td>213302671</td>\n",
              "      <td>1</td>\n",
              "    </tr>\n",
              "    <tr>\n",
              "      <th>8</th>\n",
              "      <td>213305594</td>\n",
              "      <td>1</td>\n",
              "    </tr>\n",
              "    <tr>\n",
              "      <th>9</th>\n",
              "      <td>213305134</td>\n",
              "      <td>1</td>\n",
              "    </tr>\n",
              "  </tbody>\n",
              "</table>\n",
              "</div>"
            ],
            "text/plain": [
              "      tripid  prediction\n",
              "0  213284604           1\n",
              "1  213286352           1\n",
              "2  213293973           1\n",
              "3  213294622           1\n",
              "4  213298687           1\n",
              "5  213299545           0\n",
              "6  213302332           1\n",
              "7  213302671           1\n",
              "8  213305594           1\n",
              "9  213305134           1"
            ]
          },
          "metadata": {
            "tags": []
          },
          "execution_count": 73
        }
      ]
    },
    {
      "cell_type": "code",
      "metadata": {
        "id": "emmk-iVZLttY",
        "colab_type": "code",
        "colab": {
          "base_uri": "https://localhost:8080/",
          "height": 424
        },
        "outputId": "acd0edd3-7de0-4318-b596-dedc7e8b7974"
      },
      "source": [
        "submission.loc[submission['prediction'] == 0]"
      ],
      "execution_count": null,
      "outputs": [
        {
          "output_type": "execute_result",
          "data": {
            "text/html": [
              "<div>\n",
              "<style scoped>\n",
              "    .dataframe tbody tr th:only-of-type {\n",
              "        vertical-align: middle;\n",
              "    }\n",
              "\n",
              "    .dataframe tbody tr th {\n",
              "        vertical-align: top;\n",
              "    }\n",
              "\n",
              "    .dataframe thead th {\n",
              "        text-align: right;\n",
              "    }\n",
              "</style>\n",
              "<table border=\"1\" class=\"dataframe\">\n",
              "  <thead>\n",
              "    <tr style=\"text-align: right;\">\n",
              "      <th></th>\n",
              "      <th>tripid</th>\n",
              "      <th>prediction</th>\n",
              "    </tr>\n",
              "  </thead>\n",
              "  <tbody>\n",
              "    <tr>\n",
              "      <th>5</th>\n",
              "      <td>213299545</td>\n",
              "      <td>0</td>\n",
              "    </tr>\n",
              "    <tr>\n",
              "      <th>13</th>\n",
              "      <td>213310068</td>\n",
              "      <td>0</td>\n",
              "    </tr>\n",
              "    <tr>\n",
              "      <th>30</th>\n",
              "      <td>213318535</td>\n",
              "      <td>0</td>\n",
              "    </tr>\n",
              "    <tr>\n",
              "      <th>39</th>\n",
              "      <td>213325248</td>\n",
              "      <td>0</td>\n",
              "    </tr>\n",
              "    <tr>\n",
              "      <th>40</th>\n",
              "      <td>213326731</td>\n",
              "      <td>0</td>\n",
              "    </tr>\n",
              "    <tr>\n",
              "      <th>...</th>\n",
              "      <td>...</td>\n",
              "      <td>...</td>\n",
              "    </tr>\n",
              "    <tr>\n",
              "      <th>8401</th>\n",
              "      <td>222716573</td>\n",
              "      <td>0</td>\n",
              "    </tr>\n",
              "    <tr>\n",
              "      <th>8406</th>\n",
              "      <td>222717033</td>\n",
              "      <td>0</td>\n",
              "    </tr>\n",
              "    <tr>\n",
              "      <th>8443</th>\n",
              "      <td>222735934</td>\n",
              "      <td>0</td>\n",
              "    </tr>\n",
              "    <tr>\n",
              "      <th>8532</th>\n",
              "      <td>222816520</td>\n",
              "      <td>0</td>\n",
              "    </tr>\n",
              "    <tr>\n",
              "      <th>8555</th>\n",
              "      <td>222831987</td>\n",
              "      <td>0</td>\n",
              "    </tr>\n",
              "  </tbody>\n",
              "</table>\n",
              "<p>509 rows × 2 columns</p>\n",
              "</div>"
            ],
            "text/plain": [
              "         tripid  prediction\n",
              "5     213299545           0\n",
              "13    213310068           0\n",
              "30    213318535           0\n",
              "39    213325248           0\n",
              "40    213326731           0\n",
              "...         ...         ...\n",
              "8401  222716573           0\n",
              "8406  222717033           0\n",
              "8443  222735934           0\n",
              "8532  222816520           0\n",
              "8555  222831987           0\n",
              "\n",
              "[509 rows x 2 columns]"
            ]
          },
          "metadata": {
            "tags": []
          },
          "execution_count": 74
        }
      ]
    },
    {
      "cell_type": "code",
      "metadata": {
        "id": "H3NMB-_tBpr7",
        "colab_type": "code",
        "colab": {}
      },
      "source": [
        "submission.to_csv(path + '/submission_110.csv',index=False)"
      ],
      "execution_count": null,
      "outputs": []
    },
    {
      "cell_type": "markdown",
      "metadata": {
        "id": "aTpRATrLI5XL",
        "colab_type": "text"
      },
      "source": [
        "##Combining different dataframes##"
      ]
    },
    {
      "cell_type": "code",
      "metadata": {
        "id": "9zn4o0WDAcio",
        "colab_type": "code",
        "colab": {
          "base_uri": "https://localhost:8080/",
          "height": 424
        },
        "outputId": "f6c7c834-dde3-4da3-d3ea-738fe3004a3f"
      },
      "source": [
        "s03 = pd.read_csv(path + '/submission_104.csv')\n",
        "s03.loc[s03['prediction'] == 0]"
      ],
      "execution_count": null,
      "outputs": [
        {
          "output_type": "execute_result",
          "data": {
            "text/html": [
              "<div>\n",
              "<style scoped>\n",
              "    .dataframe tbody tr th:only-of-type {\n",
              "        vertical-align: middle;\n",
              "    }\n",
              "\n",
              "    .dataframe tbody tr th {\n",
              "        vertical-align: top;\n",
              "    }\n",
              "\n",
              "    .dataframe thead th {\n",
              "        text-align: right;\n",
              "    }\n",
              "</style>\n",
              "<table border=\"1\" class=\"dataframe\">\n",
              "  <thead>\n",
              "    <tr style=\"text-align: right;\">\n",
              "      <th></th>\n",
              "      <th>tripid</th>\n",
              "      <th>prediction</th>\n",
              "    </tr>\n",
              "  </thead>\n",
              "  <tbody>\n",
              "    <tr>\n",
              "      <th>5</th>\n",
              "      <td>213299545</td>\n",
              "      <td>0</td>\n",
              "    </tr>\n",
              "    <tr>\n",
              "      <th>13</th>\n",
              "      <td>213310068</td>\n",
              "      <td>0</td>\n",
              "    </tr>\n",
              "    <tr>\n",
              "      <th>30</th>\n",
              "      <td>213318535</td>\n",
              "      <td>0</td>\n",
              "    </tr>\n",
              "    <tr>\n",
              "      <th>39</th>\n",
              "      <td>213325248</td>\n",
              "      <td>0</td>\n",
              "    </tr>\n",
              "    <tr>\n",
              "      <th>40</th>\n",
              "      <td>213326731</td>\n",
              "      <td>0</td>\n",
              "    </tr>\n",
              "    <tr>\n",
              "      <th>...</th>\n",
              "      <td>...</td>\n",
              "      <td>...</td>\n",
              "    </tr>\n",
              "    <tr>\n",
              "      <th>8401</th>\n",
              "      <td>222716573</td>\n",
              "      <td>0</td>\n",
              "    </tr>\n",
              "    <tr>\n",
              "      <th>8406</th>\n",
              "      <td>222717033</td>\n",
              "      <td>0</td>\n",
              "    </tr>\n",
              "    <tr>\n",
              "      <th>8443</th>\n",
              "      <td>222735934</td>\n",
              "      <td>0</td>\n",
              "    </tr>\n",
              "    <tr>\n",
              "      <th>8532</th>\n",
              "      <td>222816520</td>\n",
              "      <td>0</td>\n",
              "    </tr>\n",
              "    <tr>\n",
              "      <th>8555</th>\n",
              "      <td>222831987</td>\n",
              "      <td>0</td>\n",
              "    </tr>\n",
              "  </tbody>\n",
              "</table>\n",
              "<p>471 rows × 2 columns</p>\n",
              "</div>"
            ],
            "text/plain": [
              "         tripid  prediction\n",
              "5     213299545           0\n",
              "13    213310068           0\n",
              "30    213318535           0\n",
              "39    213325248           0\n",
              "40    213326731           0\n",
              "...         ...         ...\n",
              "8401  222716573           0\n",
              "8406  222717033           0\n",
              "8443  222735934           0\n",
              "8532  222816520           0\n",
              "8555  222831987           0\n",
              "\n",
              "[471 rows x 2 columns]"
            ]
          },
          "metadata": {
            "tags": []
          },
          "execution_count": 114
        }
      ]
    },
    {
      "cell_type": "code",
      "metadata": {
        "id": "EEWm0cZzLw15",
        "colab_type": "code",
        "colab": {}
      },
      "source": [
        "s03 = pd.read_csv(path + '/submission_12.csv')"
      ],
      "execution_count": null,
      "outputs": []
    },
    {
      "cell_type": "code",
      "metadata": {
        "id": "LMmcZqudL6QN",
        "colab_type": "code",
        "colab": {
          "base_uri": "https://localhost:8080/",
          "height": 424
        },
        "outputId": "0cb038a2-af82-4522-fb14-f03e0555c31a"
      },
      "source": [
        "s12.loc[s14['prediction'] == 0]"
      ],
      "execution_count": null,
      "outputs": [
        {
          "output_type": "execute_result",
          "data": {
            "text/html": [
              "<div>\n",
              "<style scoped>\n",
              "    .dataframe tbody tr th:only-of-type {\n",
              "        vertical-align: middle;\n",
              "    }\n",
              "\n",
              "    .dataframe tbody tr th {\n",
              "        vertical-align: top;\n",
              "    }\n",
              "\n",
              "    .dataframe thead th {\n",
              "        text-align: right;\n",
              "    }\n",
              "</style>\n",
              "<table border=\"1\" class=\"dataframe\">\n",
              "  <thead>\n",
              "    <tr style=\"text-align: right;\">\n",
              "      <th></th>\n",
              "      <th>tripid</th>\n",
              "      <th>prediction</th>\n",
              "    </tr>\n",
              "  </thead>\n",
              "  <tbody>\n",
              "    <tr>\n",
              "      <th>5</th>\n",
              "      <td>213299545</td>\n",
              "      <td>0</td>\n",
              "    </tr>\n",
              "    <tr>\n",
              "      <th>13</th>\n",
              "      <td>213310068</td>\n",
              "      <td>0</td>\n",
              "    </tr>\n",
              "    <tr>\n",
              "      <th>30</th>\n",
              "      <td>213318535</td>\n",
              "      <td>0</td>\n",
              "    </tr>\n",
              "    <tr>\n",
              "      <th>39</th>\n",
              "      <td>213325248</td>\n",
              "      <td>0</td>\n",
              "    </tr>\n",
              "    <tr>\n",
              "      <th>40</th>\n",
              "      <td>213326731</td>\n",
              "      <td>0</td>\n",
              "    </tr>\n",
              "    <tr>\n",
              "      <th>...</th>\n",
              "      <td>...</td>\n",
              "      <td>...</td>\n",
              "    </tr>\n",
              "    <tr>\n",
              "      <th>8401</th>\n",
              "      <td>222716573</td>\n",
              "      <td>0</td>\n",
              "    </tr>\n",
              "    <tr>\n",
              "      <th>8406</th>\n",
              "      <td>222717033</td>\n",
              "      <td>0</td>\n",
              "    </tr>\n",
              "    <tr>\n",
              "      <th>8443</th>\n",
              "      <td>222735934</td>\n",
              "      <td>0</td>\n",
              "    </tr>\n",
              "    <tr>\n",
              "      <th>8532</th>\n",
              "      <td>222816520</td>\n",
              "      <td>0</td>\n",
              "    </tr>\n",
              "    <tr>\n",
              "      <th>8555</th>\n",
              "      <td>222831987</td>\n",
              "      <td>0</td>\n",
              "    </tr>\n",
              "  </tbody>\n",
              "</table>\n",
              "<p>459 rows × 2 columns</p>\n",
              "</div>"
            ],
            "text/plain": [
              "         tripid  prediction\n",
              "5     213299545           0\n",
              "13    213310068           0\n",
              "30    213318535           0\n",
              "39    213325248           0\n",
              "40    213326731           0\n",
              "...         ...         ...\n",
              "8401  222716573           0\n",
              "8406  222717033           0\n",
              "8443  222735934           0\n",
              "8532  222816520           0\n",
              "8555  222831987           0\n",
              "\n",
              "[459 rows x 2 columns]"
            ]
          },
          "metadata": {
            "tags": []
          },
          "execution_count": 6
        }
      ]
    },
    {
      "cell_type": "code",
      "metadata": {
        "id": "dBuTBdBMMD08",
        "colab_type": "code",
        "colab": {}
      },
      "source": [
        "s01 = pd.read_csv(path + '/submission_8.csv')\n",
        "s02 = pd.read_csv(path + '/submission_10.csv')\n",
        "s03 = pd.read_csv(path + '/submission_12.csv')\n",
        "s04 = pd.read_csv(path + '/submission_19.csv')\n",
        "s05 = pd.read_csv(path + '/submission_43.csv')\n",
        "s06 = pd.read_csv(path + '/submission_54.csv')\n",
        "s07_1 = pd.read_csv(path + '/submission_72.csv')\n",
        "s07 = pd.read_csv(path + '/submission_73.csv')\n",
        "s08 = pd.read_csv(path + '/submission_52.csv')\n",
        "s09 = pd.read_csv(path + '/submission_42.csv')\n",
        "s10 = pd.read_csv(path + '/submission_93.csv')"
      ],
      "execution_count": null,
      "outputs": []
    },
    {
      "cell_type": "code",
      "metadata": {
        "id": "4Aki0KoUmLeO",
        "colab_type": "code",
        "colab": {}
      },
      "source": [
        "s11 = pd.read_csv(path + '/submission_20_x.csv')\n",
        "s12 = pd.read_csv(path + '/sample_predition_88.csv')\n",
        "s13 = pd.read_csv(path + '/ride_fare_submission_xgb_447z_more_base_0_1_depth_6_est_200.csv')\n",
        "s14 = pd.read_csv(path + '/sample_predition_77 (1).csv')\n",
        "s15 = pd.read_csv(path + '/sample_predition_88.csv')"
      ],
      "execution_count": null,
      "outputs": []
    },
    {
      "cell_type": "code",
      "metadata": {
        "id": "d3XIxyV0EwKt",
        "colab_type": "code",
        "colab": {}
      },
      "source": [
        "x = s03.loc[(s03['prediction'] != s04['prediction']) & (s03['prediction'] != s06['prediction'])  & (s03['prediction'] != s07['prediction']) & (s03['prediction'] != s11['prediction'])]"
      ],
      "execution_count": null,
      "outputs": []
    },
    {
      "cell_type": "code",
      "metadata": {
        "id": "HPXmgUSbYFt_",
        "colab_type": "code",
        "colab": {
          "base_uri": "https://localhost:8080/",
          "height": 49
        },
        "outputId": "8c0329a4-85ee-4f60-8a2d-900eb93d5e3f"
      },
      "source": [
        "s15.loc[s15['prediction'] != s12['prediction']]"
      ],
      "execution_count": null,
      "outputs": [
        {
          "output_type": "execute_result",
          "data": {
            "text/html": [
              "<div>\n",
              "<style scoped>\n",
              "    .dataframe tbody tr th:only-of-type {\n",
              "        vertical-align: middle;\n",
              "    }\n",
              "\n",
              "    .dataframe tbody tr th {\n",
              "        vertical-align: top;\n",
              "    }\n",
              "\n",
              "    .dataframe thead th {\n",
              "        text-align: right;\n",
              "    }\n",
              "</style>\n",
              "<table border=\"1\" class=\"dataframe\">\n",
              "  <thead>\n",
              "    <tr style=\"text-align: right;\">\n",
              "      <th></th>\n",
              "      <th>tripid</th>\n",
              "      <th>prediction</th>\n",
              "    </tr>\n",
              "  </thead>\n",
              "  <tbody>\n",
              "  </tbody>\n",
              "</table>\n",
              "</div>"
            ],
            "text/plain": [
              "Empty DataFrame\n",
              "Columns: [tripid, prediction]\n",
              "Index: []"
            ]
          },
          "metadata": {
            "tags": []
          },
          "execution_count": 49
        }
      ]
    },
    {
      "cell_type": "code",
      "metadata": {
        "id": "YdEa3OvwUFne",
        "colab_type": "code",
        "colab": {
          "base_uri": "https://localhost:8080/",
          "height": 34
        },
        "outputId": "8d6ff212-a800-4fa9-b2f3-78fe867f58d3"
      },
      "source": [
        "x.shape"
      ],
      "execution_count": null,
      "outputs": [
        {
          "output_type": "execute_result",
          "data": {
            "text/plain": [
              "(30, 2)"
            ]
          },
          "metadata": {
            "tags": []
          },
          "execution_count": 46
        }
      ]
    },
    {
      "cell_type": "code",
      "metadata": {
        "id": "AaazvkmGM9PF",
        "colab_type": "code",
        "colab": {}
      },
      "source": [
        "s03.loc[((s03['prediction'] != s04['prediction']) & (s03['prediction'] != s06['prediction'])  & (s03['prediction'] != s07['prediction']) & (s03['prediction'] != s11['prediction']) & (s03['prediction'] == 0)), 'prediction'] = 1\n",
        "s03.loc[((s03['prediction'] != s04['prediction']) & (s03['prediction'] != s06['prediction'])  & (s03['prediction'] != s07['prediction']) & (s03['prediction'] != s11['prediction']) & (s03['prediction'] == 1)), 'prediction'] = 0"
      ],
      "execution_count": null,
      "outputs": []
    },
    {
      "cell_type": "code",
      "metadata": {
        "id": "2MFo-E_-E1xJ",
        "colab_type": "code",
        "colab": {}
      },
      "source": [
        "s03.loc[(s03['prediction'] != s01['prediction']) & (s03['prediction'] != s02['prediction']) & (s03['prediction'] != s04['prediction']) & (s03['prediction'] != s05['prediction']) & (s03['prediction'] != s06['prediction']) & (s03['prediction'] != s07['prediction']) & (s03['prediction'] != s08['prediction']) & (s03['prediction'] != s09['prediction']) & (s03['prediction'] != s10['prediction']) & (s03['prediction'] != s11['prediction'])  & (s03['prediction'] == 0), 'prediction'] = 1\n",
        "s03.loc[(s03['prediction'] != s01['prediction']) & (s03['prediction'] != s02['prediction']) & (s03['prediction'] != s04['prediction']) & (s03['prediction'] != s05['prediction']) & (s03['prediction'] != s06['prediction']) & (s03['prediction'] != s07['prediction']) & (s03['prediction'] != s08['prediction']) & (s03['prediction'] != s09['prediction']) & (s03['prediction'] != s10['prediction']) & (s03['prediction'] != s11['prediction'])  & (s03['prediction'] == 1), 'prediction'] = 0"
      ],
      "execution_count": null,
      "outputs": []
    },
    {
      "cell_type": "code",
      "metadata": {
        "id": "8cC7DLhiFfz_",
        "colab_type": "code",
        "colab": {}
      },
      "source": [
        "s03.loc[(s03['prediction'] != s01['prediction']) & (s03['prediction'] != s02['prediction']) & (s03['prediction'] != s04['prediction']) & (s03['prediction'] != s05['prediction']) & (s03['prediction'] != s06['prediction']) & (s03['prediction'] != s07['prediction']) & (s03['prediction'] != s08['prediction']) & (s03['prediction'] != s09['prediction']) & (s03['prediction'] != s10['prediction']) & (s03['prediction'] == 1), 'prediction'] = 0"
      ],
      "execution_count": null,
      "outputs": []
    },
    {
      "cell_type": "code",
      "metadata": {
        "id": "HEtrG61IFnQ0",
        "colab_type": "code",
        "colab": {}
      },
      "source": [
        "s03.to_csv(path + '/submission_113.csv',index=False)"
      ],
      "execution_count": null,
      "outputs": []
    },
    {
      "cell_type": "code",
      "metadata": {
        "id": "LT6BwpV7Ftm0",
        "colab_type": "code",
        "colab": {
          "base_uri": "https://localhost:8080/",
          "height": 424
        },
        "outputId": "f47d6c25-f42a-4762-c069-11fcee196dd8"
      },
      "source": [
        "s96.loc[s96['prediction'] == 0]"
      ],
      "execution_count": null,
      "outputs": [
        {
          "output_type": "execute_result",
          "data": {
            "text/html": [
              "<div>\n",
              "<style scoped>\n",
              "    .dataframe tbody tr th:only-of-type {\n",
              "        vertical-align: middle;\n",
              "    }\n",
              "\n",
              "    .dataframe tbody tr th {\n",
              "        vertical-align: top;\n",
              "    }\n",
              "\n",
              "    .dataframe thead th {\n",
              "        text-align: right;\n",
              "    }\n",
              "</style>\n",
              "<table border=\"1\" class=\"dataframe\">\n",
              "  <thead>\n",
              "    <tr style=\"text-align: right;\">\n",
              "      <th></th>\n",
              "      <th>tripid</th>\n",
              "      <th>prediction</th>\n",
              "    </tr>\n",
              "  </thead>\n",
              "  <tbody>\n",
              "    <tr>\n",
              "      <th>5</th>\n",
              "      <td>213299545</td>\n",
              "      <td>0</td>\n",
              "    </tr>\n",
              "    <tr>\n",
              "      <th>13</th>\n",
              "      <td>213310068</td>\n",
              "      <td>0</td>\n",
              "    </tr>\n",
              "    <tr>\n",
              "      <th>30</th>\n",
              "      <td>213318535</td>\n",
              "      <td>0</td>\n",
              "    </tr>\n",
              "    <tr>\n",
              "      <th>39</th>\n",
              "      <td>213325248</td>\n",
              "      <td>0</td>\n",
              "    </tr>\n",
              "    <tr>\n",
              "      <th>40</th>\n",
              "      <td>213326731</td>\n",
              "      <td>0</td>\n",
              "    </tr>\n",
              "    <tr>\n",
              "      <th>...</th>\n",
              "      <td>...</td>\n",
              "      <td>...</td>\n",
              "    </tr>\n",
              "    <tr>\n",
              "      <th>8401</th>\n",
              "      <td>222716573</td>\n",
              "      <td>0</td>\n",
              "    </tr>\n",
              "    <tr>\n",
              "      <th>8406</th>\n",
              "      <td>222717033</td>\n",
              "      <td>0</td>\n",
              "    </tr>\n",
              "    <tr>\n",
              "      <th>8443</th>\n",
              "      <td>222735934</td>\n",
              "      <td>0</td>\n",
              "    </tr>\n",
              "    <tr>\n",
              "      <th>8532</th>\n",
              "      <td>222816520</td>\n",
              "      <td>0</td>\n",
              "    </tr>\n",
              "    <tr>\n",
              "      <th>8555</th>\n",
              "      <td>222831987</td>\n",
              "      <td>0</td>\n",
              "    </tr>\n",
              "  </tbody>\n",
              "</table>\n",
              "<p>446 rows × 2 columns</p>\n",
              "</div>"
            ],
            "text/plain": [
              "         tripid  prediction\n",
              "5     213299545           0\n",
              "13    213310068           0\n",
              "30    213318535           0\n",
              "39    213325248           0\n",
              "40    213326731           0\n",
              "...         ...         ...\n",
              "8401  222716573           0\n",
              "8406  222717033           0\n",
              "8443  222735934           0\n",
              "8532  222816520           0\n",
              "8555  222831987           0\n",
              "\n",
              "[446 rows x 2 columns]"
            ]
          },
          "metadata": {
            "tags": []
          },
          "execution_count": 67
        }
      ]
    },
    {
      "cell_type": "code",
      "metadata": {
        "id": "Z3nqcq9V5kRQ",
        "colab_type": "code",
        "colab": {}
      },
      "source": [
        "s96 = pd.read_csv(path + '/submission_129.csv')"
      ],
      "execution_count": null,
      "outputs": []
    },
    {
      "cell_type": "code",
      "metadata": {
        "id": "AiXq5Hih6y4L",
        "colab_type": "code",
        "colab": {
          "base_uri": "https://localhost:8080/",
          "height": 69
        },
        "outputId": "c90ed24e-d312-4b7e-9aa9-aeae276cd681"
      },
      "source": [
        "s96.loc[1103]"
      ],
      "execution_count": null,
      "outputs": [
        {
          "output_type": "execute_result",
          "data": {
            "text/plain": [
              "tripid        214447036\n",
              "prediction            0\n",
              "Name: 1103, dtype: int64"
            ]
          },
          "metadata": {
            "tags": []
          },
          "execution_count": 28
        }
      ]
    },
    {
      "cell_type": "code",
      "metadata": {
        "id": "Uw4cnIHAOHJu",
        "colab_type": "code",
        "colab": {}
      },
      "source": [
        "x = s11.loc[(s11['prediction'] != s12['prediction']) & (s03['prediction'] != s11['prediction'])]"
      ],
      "execution_count": null,
      "outputs": []
    },
    {
      "cell_type": "code",
      "metadata": {
        "id": "Mi8QqgH9OYod",
        "colab_type": "code",
        "colab": {
          "base_uri": "https://localhost:8080/",
          "height": 34
        },
        "outputId": "bd4760cc-2477-4ff9-e82d-a94303103ac5"
      },
      "source": [
        "x.shape"
      ],
      "execution_count": null,
      "outputs": [
        {
          "output_type": "execute_result",
          "data": {
            "text/plain": [
              "(65, 2)"
            ]
          },
          "metadata": {
            "tags": []
          },
          "execution_count": 48
        }
      ]
    },
    {
      "cell_type": "code",
      "metadata": {
        "id": "fgO51ud_PNE8",
        "colab_type": "code",
        "colab": {}
      },
      "source": [
        "s11.loc[((s11['prediction'] != s06['prediction'])  & (s11['prediction'] != s07['prediction']) & (s03['prediction'] != s11['prediction'])& (s11['prediction'] == 0)), 'prediction'] = 1\n",
        "s11.loc[((s11['prediction'] != s06['prediction'])  & (s11['prediction'] != s07['prediction']) & (s03['prediction'] != s11['prediction'])& (s11['prediction'] == 1)), 'prediction'] = 0"
      ],
      "execution_count": null,
      "outputs": []
    },
    {
      "cell_type": "code",
      "metadata": {
        "id": "EpqaxZEY6ToH",
        "colab_type": "code",
        "colab": {}
      },
      "source": [
        "s96.loc[570, 'prediction'] = 1 \n",
        "s96.loc[893, 'prediction'] = 1 \n",
        "s96.loc[1465, 'prediction'] = 1 \n",
        "s96.loc[3084, 'prediction'] = 1 \n",
        "s96.loc[4688, 'prediction'] = 1 \n",
        "s96.loc[5134, 'prediction'] = 1 \n",
        "s96.loc[7097, 'prediction'] = 1 \n",
        "s96.loc[7339, 'prediction'] = 1\n",
        "s96.loc[1695, 'prediction'] = 0\n",
        "s96.loc[1103, 'prediction'] = 0"
      ],
      "execution_count": null,
      "outputs": []
    },
    {
      "cell_type": "code",
      "metadata": {
        "id": "GDB6QiW16ZsJ",
        "colab_type": "code",
        "colab": {}
      },
      "source": [
        "s96.to_csv(path + '/submission_119.csv',index=False)"
      ],
      "execution_count": null,
      "outputs": []
    },
    {
      "cell_type": "code",
      "metadata": {
        "id": "kvHpNpoGFzg_",
        "colab_type": "code",
        "colab": {
          "base_uri": "https://localhost:8080/",
          "height": 424
        },
        "outputId": "eb97e8bb-4e6c-4651-e5b9-49bf08e6d052"
      },
      "source": [
        "s12.loc[s12['prediction'] == 0]"
      ],
      "execution_count": null,
      "outputs": [
        {
          "output_type": "execute_result",
          "data": {
            "text/html": [
              "<div>\n",
              "<style scoped>\n",
              "    .dataframe tbody tr th:only-of-type {\n",
              "        vertical-align: middle;\n",
              "    }\n",
              "\n",
              "    .dataframe tbody tr th {\n",
              "        vertical-align: top;\n",
              "    }\n",
              "\n",
              "    .dataframe thead th {\n",
              "        text-align: right;\n",
              "    }\n",
              "</style>\n",
              "<table border=\"1\" class=\"dataframe\">\n",
              "  <thead>\n",
              "    <tr style=\"text-align: right;\">\n",
              "      <th></th>\n",
              "      <th>tripid</th>\n",
              "      <th>prediction</th>\n",
              "    </tr>\n",
              "  </thead>\n",
              "  <tbody>\n",
              "    <tr>\n",
              "      <th>5</th>\n",
              "      <td>213299545</td>\n",
              "      <td>0</td>\n",
              "    </tr>\n",
              "    <tr>\n",
              "      <th>13</th>\n",
              "      <td>213310068</td>\n",
              "      <td>0</td>\n",
              "    </tr>\n",
              "    <tr>\n",
              "      <th>30</th>\n",
              "      <td>213318535</td>\n",
              "      <td>0</td>\n",
              "    </tr>\n",
              "    <tr>\n",
              "      <th>39</th>\n",
              "      <td>213325248</td>\n",
              "      <td>0</td>\n",
              "    </tr>\n",
              "    <tr>\n",
              "      <th>40</th>\n",
              "      <td>213326731</td>\n",
              "      <td>0</td>\n",
              "    </tr>\n",
              "    <tr>\n",
              "      <th>...</th>\n",
              "      <td>...</td>\n",
              "      <td>...</td>\n",
              "    </tr>\n",
              "    <tr>\n",
              "      <th>8401</th>\n",
              "      <td>222716573</td>\n",
              "      <td>0</td>\n",
              "    </tr>\n",
              "    <tr>\n",
              "      <th>8406</th>\n",
              "      <td>222717033</td>\n",
              "      <td>0</td>\n",
              "    </tr>\n",
              "    <tr>\n",
              "      <th>8443</th>\n",
              "      <td>222735934</td>\n",
              "      <td>0</td>\n",
              "    </tr>\n",
              "    <tr>\n",
              "      <th>8532</th>\n",
              "      <td>222816520</td>\n",
              "      <td>0</td>\n",
              "    </tr>\n",
              "    <tr>\n",
              "      <th>8555</th>\n",
              "      <td>222831987</td>\n",
              "      <td>0</td>\n",
              "    </tr>\n",
              "  </tbody>\n",
              "</table>\n",
              "<p>446 rows × 2 columns</p>\n",
              "</div>"
            ],
            "text/plain": [
              "         tripid  prediction\n",
              "5     213299545           0\n",
              "13    213310068           0\n",
              "30    213318535           0\n",
              "39    213325248           0\n",
              "40    213326731           0\n",
              "...         ...         ...\n",
              "8401  222716573           0\n",
              "8406  222717033           0\n",
              "8443  222735934           0\n",
              "8532  222816520           0\n",
              "8555  222831987           0\n",
              "\n",
              "[446 rows x 2 columns]"
            ]
          },
          "metadata": {
            "tags": []
          },
          "execution_count": 68
        }
      ]
    },
    {
      "cell_type": "code",
      "metadata": {
        "id": "VnCy1lTLozmc",
        "colab_type": "code",
        "colab": {}
      },
      "source": [
        "x = s11.loc[(s11['prediction'] != s01['prediction']) & (s11['prediction'] != s02['prediction']) & (s11['prediction'] != s04['prediction']) & (s11['prediction'] != s05['prediction']) & (s11['prediction'] != s06['prediction']) & (s11['prediction'] != s07['prediction']) & (s11['prediction'] != s08['prediction']) & (s11['prediction'] != s09['prediction']) & (s11['prediction'] != s10['prediction']) & (s11['prediction'] != s03['prediction'])]"
      ],
      "execution_count": null,
      "outputs": []
    },
    {
      "cell_type": "code",
      "metadata": {
        "id": "moeePh94pLFg",
        "colab_type": "code",
        "colab": {}
      },
      "source": [
        "s11.loc[(s11['prediction'] != s01['prediction']) & (s11['prediction'] != s02['prediction']) & (s11['prediction'] != s04['prediction']) & (s11['prediction'] != s05['prediction']) & (s11['prediction'] != s06['prediction']) & (s11['prediction'] != s07['prediction']) & (s11['prediction'] != s08['prediction']) & (s11['prediction'] != s09['prediction']) & (s11['prediction'] != s10['prediction']) & (s11['prediction'] != s03['prediction']) & (s11['prediction'] == 0), 'prediction'] = 1\n",
        "s11.loc[(s11['prediction'] != s01['prediction']) & (s11['prediction'] != s02['prediction']) & (s11['prediction'] != s04['prediction']) & (s11['prediction'] != s05['prediction']) & (s11['prediction'] != s06['prediction']) & (s11['prediction'] != s07['prediction']) & (s11['prediction'] != s08['prediction']) & (s11['prediction'] != s09['prediction']) & (s11['prediction'] != s10['prediction']) & (s11['prediction'] != s03['prediction']) & (s11['prediction'] == 1), 'prediction'] = 0\n"
      ],
      "execution_count": null,
      "outputs": []
    },
    {
      "cell_type": "code",
      "metadata": {
        "id": "GQ4m5tZYWgfT",
        "colab_type": "code",
        "colab": {}
      },
      "source": [
        "x = s11.loc[(s11['prediction'] != s07['prediction']) & (s11['prediction'] != s12['prediction']) & (s03['prediction'] != s11['prediction'])]"
      ],
      "execution_count": null,
      "outputs": []
    },
    {
      "cell_type": "code",
      "metadata": {
        "id": "iOKl_n3zWy5v",
        "colab_type": "code",
        "colab": {
          "base_uri": "https://localhost:8080/",
          "height": 34
        },
        "outputId": "73f0b87f-79ce-4e83-a5fd-07828e1685dc"
      },
      "source": [
        "x.shape"
      ],
      "execution_count": null,
      "outputs": [
        {
          "output_type": "execute_result",
          "data": {
            "text/plain": [
              "(43, 2)"
            ]
          },
          "metadata": {
            "tags": []
          },
          "execution_count": 25
        }
      ]
    },
    {
      "cell_type": "code",
      "metadata": {
        "id": "TAxQ3_zyWgKf",
        "colab_type": "code",
        "colab": {}
      },
      "source": [
        "s11.loc[((s11['prediction'] != s07['prediction']) & (s11['prediction'] != s12['prediction']) & (s03['prediction'] != s11['prediction'])& (s11['prediction'] == 0)), 'prediction'] = 1\n",
        "s11.loc[((s11['prediction'] != s07['prediction']) & (s11['prediction'] != s12['prediction']) & (s03['prediction'] != s11['prediction'])& (s11['prediction'] == 1)), 'prediction'] = 0"
      ],
      "execution_count": null,
      "outputs": []
    },
    {
      "cell_type": "code",
      "metadata": {
        "id": "vBKXLPgfpw2B",
        "colab_type": "code",
        "colab": {}
      },
      "source": [
        "s11.to_csv(path + '/submission_116.csv',index=False)"
      ],
      "execution_count": null,
      "outputs": []
    },
    {
      "cell_type": "code",
      "metadata": {
        "id": "oJUH1_WBqK8N",
        "colab_type": "code",
        "colab": {}
      },
      "source": [
        "x = s12.loc[(s12['prediction'] != s11['prediction']) & (s12['prediction'] != s13['prediction']) & (s03['prediction'] != s12['prediction'])]"
      ],
      "execution_count": null,
      "outputs": []
    },
    {
      "cell_type": "code",
      "metadata": {
        "id": "4F-UhALVdryt",
        "colab_type": "code",
        "colab": {
          "base_uri": "https://localhost:8080/",
          "height": 34
        },
        "outputId": "bf651a0d-f061-45bb-87c6-351343016e64"
      },
      "source": [
        "x.shape"
      ],
      "execution_count": null,
      "outputs": [
        {
          "output_type": "execute_result",
          "data": {
            "text/plain": [
              "(0, 2)"
            ]
          },
          "metadata": {
            "tags": []
          },
          "execution_count": 61
        }
      ]
    },
    {
      "cell_type": "code",
      "metadata": {
        "id": "O95OR6RjXnII",
        "colab_type": "code",
        "colab": {}
      },
      "source": [
        "s14.loc[((s14['prediction'] != s11['prediction']) & (s14['prediction'] != s13['prediction']) & (s03['prediction'] != s14['prediction'])& (s14['prediction'] == 0)), 'prediction'] = 1\n",
        "s14.loc[((s14['prediction'] != s11['prediction']) & (s14['prediction'] != s13['prediction']) & (s03['prediction'] != s14['prediction'])& (s14['prediction'] == 1)), 'prediction'] = 0"
      ],
      "execution_count": null,
      "outputs": []
    },
    {
      "cell_type": "code",
      "metadata": {
        "id": "HmJEkmP5dtQC",
        "colab_type": "code",
        "colab": {}
      },
      "source": [
        "s12.loc[((s12['prediction'] != s11['prediction']) & (s12['prediction'] != s13['prediction']) & (s03['prediction'] != s12['prediction'])& (s12['prediction'] == 0)), 'prediction'] = 1\n",
        "s12.loc[((s12['prediction'] != s11['prediction']) & (s12['prediction'] != s13['prediction']) & (s03['prediction'] != s12['prediction'])& (s12['prediction'] == 1)), 'prediction'] = 0"
      ],
      "execution_count": null,
      "outputs": []
    },
    {
      "cell_type": "code",
      "metadata": {
        "id": "_NiEyLmCgfYB",
        "colab_type": "code",
        "colab": {}
      },
      "source": [
        "s12.to_csv(path + '/submission_129.csv',index=False)"
      ],
      "execution_count": null,
      "outputs": []
    },
    {
      "cell_type": "code",
      "metadata": {
        "id": "pG2yyTbkwz8a",
        "colab_type": "code",
        "colab": {}
      },
      "source": [
        "s01 = pd.read_csv(path + '/submission_8.csv')\n",
        "s02 = pd.read_csv(path + '/submission_10.csv')\n",
        "s03 = pd.read_csv(path + '/submission_12.csv')\n",
        "s04 = pd.read_csv(path + '/submission_19.csv')\n",
        "s05 = pd.read_csv(path + '/submission_43.csv')\n",
        "\n",
        "submission = pd.read_csv(path + '/sample_submission.csv')\n"
      ],
      "execution_count": null,
      "outputs": []
    },
    {
      "cell_type": "code",
      "metadata": {
        "id": "A-Y0VaJTwz5l",
        "colab_type": "code",
        "colab": {}
      },
      "source": [
        "submission['prediction'] = (s01['prediction'] + s02['prediction'] + s03['prediction'] + s04['prediction'] + s05['prediction'])/5\n",
        "\n",
        "submission.loc[(submission['prediction'] > 0.5), 'prediction'] = 1        \n",
        "submission.loc[(submission['prediction'] <= 0.5), 'prediction'] = 0                                                                                                                                                      "
      ],
      "execution_count": null,
      "outputs": []
    },
    {
      "cell_type": "code",
      "metadata": {
        "id": "WupyLYVtysCU",
        "colab_type": "code",
        "colab": {}
      },
      "source": [
        "submission['prediction'] = submission['prediction'].astype(int)"
      ],
      "execution_count": null,
      "outputs": []
    },
    {
      "cell_type": "code",
      "metadata": {
        "id": "GLa0Gm_8yCna",
        "colab_type": "code",
        "colab": {
          "base_uri": "https://localhost:8080/",
          "height": 206
        },
        "outputId": "1e1a6b73-80ee-4d00-cb43-057de81d9fde"
      },
      "source": [
        "submission.head()"
      ],
      "execution_count": null,
      "outputs": [
        {
          "output_type": "execute_result",
          "data": {
            "text/html": [
              "<div>\n",
              "<style scoped>\n",
              "    .dataframe tbody tr th:only-of-type {\n",
              "        vertical-align: middle;\n",
              "    }\n",
              "\n",
              "    .dataframe tbody tr th {\n",
              "        vertical-align: top;\n",
              "    }\n",
              "\n",
              "    .dataframe thead th {\n",
              "        text-align: right;\n",
              "    }\n",
              "</style>\n",
              "<table border=\"1\" class=\"dataframe\">\n",
              "  <thead>\n",
              "    <tr style=\"text-align: right;\">\n",
              "      <th></th>\n",
              "      <th>tripid</th>\n",
              "      <th>prediction</th>\n",
              "    </tr>\n",
              "  </thead>\n",
              "  <tbody>\n",
              "    <tr>\n",
              "      <th>0</th>\n",
              "      <td>213284604</td>\n",
              "      <td>1</td>\n",
              "    </tr>\n",
              "    <tr>\n",
              "      <th>1</th>\n",
              "      <td>213286352</td>\n",
              "      <td>1</td>\n",
              "    </tr>\n",
              "    <tr>\n",
              "      <th>2</th>\n",
              "      <td>213293973</td>\n",
              "      <td>1</td>\n",
              "    </tr>\n",
              "    <tr>\n",
              "      <th>3</th>\n",
              "      <td>213294622</td>\n",
              "      <td>1</td>\n",
              "    </tr>\n",
              "    <tr>\n",
              "      <th>4</th>\n",
              "      <td>213298687</td>\n",
              "      <td>1</td>\n",
              "    </tr>\n",
              "  </tbody>\n",
              "</table>\n",
              "</div>"
            ],
            "text/plain": [
              "      tripid  prediction\n",
              "0  213284604           1\n",
              "1  213286352           1\n",
              "2  213293973           1\n",
              "3  213294622           1\n",
              "4  213298687           1"
            ]
          },
          "metadata": {
            "tags": []
          },
          "execution_count": 39
        }
      ]
    },
    {
      "cell_type": "code",
      "metadata": {
        "id": "XDW0-b9WyaiP",
        "colab_type": "code",
        "colab": {}
      },
      "source": [
        ""
      ],
      "execution_count": null,
      "outputs": []
    }
  ]
}